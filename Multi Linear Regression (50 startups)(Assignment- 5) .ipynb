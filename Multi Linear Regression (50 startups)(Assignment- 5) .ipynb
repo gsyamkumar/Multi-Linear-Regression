{
 "cells": [
  {
   "cell_type": "code",
   "execution_count": 33,
   "id": "ed3d9b0c",
   "metadata": {
    "ExecuteTime": {
     "end_time": "2023-04-21T04:36:06.053735Z",
     "start_time": "2023-04-21T04:36:06.034620Z"
    }
   },
   "outputs": [],
   "source": [
    "#importing libraries\n",
    "import pandas as pd \n",
    "import matplotlib.pyplot as plt\n",
    "import seaborn as sns\n",
    "from statsmodels.graphics.regressionplots import influence_plot\n",
    "import statsmodels.formula.api as smf\n",
    "import numpy as np"
   ]
  },
  {
   "cell_type": "code",
   "execution_count": 34,
   "id": "bade89ba",
   "metadata": {
    "ExecuteTime": {
     "end_time": "2023-04-21T04:36:06.118532Z",
     "start_time": "2023-04-21T04:36:06.058961Z"
    }
   },
   "outputs": [],
   "source": [
    "#Loading the dataset\n",
    "data=pd.read_csv('50_Startups.csv')"
   ]
  },
  {
   "cell_type": "code",
   "execution_count": 35,
   "id": "6756284e",
   "metadata": {
    "ExecuteTime": {
     "end_time": "2023-04-21T04:36:06.202978Z",
     "start_time": "2023-04-21T04:36:06.125156Z"
    }
   },
   "outputs": [
    {
     "data": {
      "text/html": [
       "<div>\n",
       "<style scoped>\n",
       "    .dataframe tbody tr th:only-of-type {\n",
       "        vertical-align: middle;\n",
       "    }\n",
       "\n",
       "    .dataframe tbody tr th {\n",
       "        vertical-align: top;\n",
       "    }\n",
       "\n",
       "    .dataframe thead th {\n",
       "        text-align: right;\n",
       "    }\n",
       "</style>\n",
       "<table border=\"1\" class=\"dataframe\">\n",
       "  <thead>\n",
       "    <tr style=\"text-align: right;\">\n",
       "      <th></th>\n",
       "      <th>R&amp;D Spend</th>\n",
       "      <th>Administration</th>\n",
       "      <th>Marketing Spend</th>\n",
       "      <th>State</th>\n",
       "      <th>Profit</th>\n",
       "    </tr>\n",
       "  </thead>\n",
       "  <tbody>\n",
       "    <tr>\n",
       "      <th>0</th>\n",
       "      <td>165349.20</td>\n",
       "      <td>136897.80</td>\n",
       "      <td>471784.10</td>\n",
       "      <td>New York</td>\n",
       "      <td>192261.83</td>\n",
       "    </tr>\n",
       "    <tr>\n",
       "      <th>1</th>\n",
       "      <td>162597.70</td>\n",
       "      <td>151377.59</td>\n",
       "      <td>443898.53</td>\n",
       "      <td>California</td>\n",
       "      <td>191792.06</td>\n",
       "    </tr>\n",
       "    <tr>\n",
       "      <th>2</th>\n",
       "      <td>153441.51</td>\n",
       "      <td>101145.55</td>\n",
       "      <td>407934.54</td>\n",
       "      <td>Florida</td>\n",
       "      <td>191050.39</td>\n",
       "    </tr>\n",
       "    <tr>\n",
       "      <th>3</th>\n",
       "      <td>144372.41</td>\n",
       "      <td>118671.85</td>\n",
       "      <td>383199.62</td>\n",
       "      <td>New York</td>\n",
       "      <td>182901.99</td>\n",
       "    </tr>\n",
       "    <tr>\n",
       "      <th>4</th>\n",
       "      <td>142107.34</td>\n",
       "      <td>91391.77</td>\n",
       "      <td>366168.42</td>\n",
       "      <td>Florida</td>\n",
       "      <td>166187.94</td>\n",
       "    </tr>\n",
       "  </tbody>\n",
       "</table>\n",
       "</div>"
      ],
      "text/plain": [
       "   R&D Spend  Administration  Marketing Spend       State     Profit\n",
       "0  165349.20       136897.80        471784.10    New York  192261.83\n",
       "1  162597.70       151377.59        443898.53  California  191792.06\n",
       "2  153441.51       101145.55        407934.54     Florida  191050.39\n",
       "3  144372.41       118671.85        383199.62    New York  182901.99\n",
       "4  142107.34        91391.77        366168.42     Florida  166187.94"
      ]
     },
     "execution_count": 35,
     "metadata": {},
     "output_type": "execute_result"
    }
   ],
   "source": [
    "data\n",
    "data.head()"
   ]
  },
  {
   "cell_type": "code",
   "execution_count": 36,
   "id": "01f951f0",
   "metadata": {
    "ExecuteTime": {
     "end_time": "2023-04-21T04:36:06.288579Z",
     "start_time": "2023-04-21T04:36:06.209217Z"
    }
   },
   "outputs": [
    {
     "data": {
      "text/html": [
       "<div>\n",
       "<style scoped>\n",
       "    .dataframe tbody tr th:only-of-type {\n",
       "        vertical-align: middle;\n",
       "    }\n",
       "\n",
       "    .dataframe tbody tr th {\n",
       "        vertical-align: top;\n",
       "    }\n",
       "\n",
       "    .dataframe thead th {\n",
       "        text-align: right;\n",
       "    }\n",
       "</style>\n",
       "<table border=\"1\" class=\"dataframe\">\n",
       "  <thead>\n",
       "    <tr style=\"text-align: right;\">\n",
       "      <th></th>\n",
       "      <th>RD_Spend</th>\n",
       "      <th>Administration</th>\n",
       "      <th>Marketing_Spend</th>\n",
       "      <th>State</th>\n",
       "      <th>Profit</th>\n",
       "    </tr>\n",
       "  </thead>\n",
       "  <tbody>\n",
       "    <tr>\n",
       "      <th>0</th>\n",
       "      <td>165349.20</td>\n",
       "      <td>136897.80</td>\n",
       "      <td>471784.10</td>\n",
       "      <td>New York</td>\n",
       "      <td>192261.83</td>\n",
       "    </tr>\n",
       "    <tr>\n",
       "      <th>1</th>\n",
       "      <td>162597.70</td>\n",
       "      <td>151377.59</td>\n",
       "      <td>443898.53</td>\n",
       "      <td>California</td>\n",
       "      <td>191792.06</td>\n",
       "    </tr>\n",
       "    <tr>\n",
       "      <th>2</th>\n",
       "      <td>153441.51</td>\n",
       "      <td>101145.55</td>\n",
       "      <td>407934.54</td>\n",
       "      <td>Florida</td>\n",
       "      <td>191050.39</td>\n",
       "    </tr>\n",
       "    <tr>\n",
       "      <th>3</th>\n",
       "      <td>144372.41</td>\n",
       "      <td>118671.85</td>\n",
       "      <td>383199.62</td>\n",
       "      <td>New York</td>\n",
       "      <td>182901.99</td>\n",
       "    </tr>\n",
       "    <tr>\n",
       "      <th>4</th>\n",
       "      <td>142107.34</td>\n",
       "      <td>91391.77</td>\n",
       "      <td>366168.42</td>\n",
       "      <td>Florida</td>\n",
       "      <td>166187.94</td>\n",
       "    </tr>\n",
       "  </tbody>\n",
       "</table>\n",
       "</div>"
      ],
      "text/plain": [
       "    RD_Spend  Administration  Marketing_Spend       State     Profit\n",
       "0  165349.20       136897.80        471784.10    New York  192261.83\n",
       "1  162597.70       151377.59        443898.53  California  191792.06\n",
       "2  153441.51       101145.55        407934.54     Florida  191050.39\n",
       "3  144372.41       118671.85        383199.62    New York  182901.99\n",
       "4  142107.34        91391.77        366168.42     Florida  166187.94"
      ]
     },
     "execution_count": 36,
     "metadata": {},
     "output_type": "execute_result"
    }
   ],
   "source": [
    "df=data.rename({'R&D Spend':'RD_Spend','Marketing Spend':'Marketing_Spend',},axis=1)\n",
    "df.head()"
   ]
  },
  {
   "cell_type": "code",
   "execution_count": 37,
   "id": "0000fdfd",
   "metadata": {
    "ExecuteTime": {
     "end_time": "2023-04-21T04:36:06.355359Z",
     "start_time": "2023-04-21T04:36:06.292672Z"
    }
   },
   "outputs": [
    {
     "data": {
      "text/html": [
       "<div>\n",
       "<style scoped>\n",
       "    .dataframe tbody tr th:only-of-type {\n",
       "        vertical-align: middle;\n",
       "    }\n",
       "\n",
       "    .dataframe tbody tr th {\n",
       "        vertical-align: top;\n",
       "    }\n",
       "\n",
       "    .dataframe thead th {\n",
       "        text-align: right;\n",
       "    }\n",
       "</style>\n",
       "<table border=\"1\" class=\"dataframe\">\n",
       "  <thead>\n",
       "    <tr style=\"text-align: right;\">\n",
       "      <th></th>\n",
       "      <th>RD_Spend</th>\n",
       "      <th>Administration</th>\n",
       "      <th>Marketing_Spend</th>\n",
       "      <th>Profit</th>\n",
       "    </tr>\n",
       "  </thead>\n",
       "  <tbody>\n",
       "    <tr>\n",
       "      <th>0</th>\n",
       "      <td>165349.20</td>\n",
       "      <td>136897.80</td>\n",
       "      <td>471784.10</td>\n",
       "      <td>192261.83</td>\n",
       "    </tr>\n",
       "    <tr>\n",
       "      <th>1</th>\n",
       "      <td>162597.70</td>\n",
       "      <td>151377.59</td>\n",
       "      <td>443898.53</td>\n",
       "      <td>191792.06</td>\n",
       "    </tr>\n",
       "    <tr>\n",
       "      <th>2</th>\n",
       "      <td>153441.51</td>\n",
       "      <td>101145.55</td>\n",
       "      <td>407934.54</td>\n",
       "      <td>191050.39</td>\n",
       "    </tr>\n",
       "    <tr>\n",
       "      <th>3</th>\n",
       "      <td>144372.41</td>\n",
       "      <td>118671.85</td>\n",
       "      <td>383199.62</td>\n",
       "      <td>182901.99</td>\n",
       "    </tr>\n",
       "    <tr>\n",
       "      <th>4</th>\n",
       "      <td>142107.34</td>\n",
       "      <td>91391.77</td>\n",
       "      <td>366168.42</td>\n",
       "      <td>166187.94</td>\n",
       "    </tr>\n",
       "  </tbody>\n",
       "</table>\n",
       "</div>"
      ],
      "text/plain": [
       "    RD_Spend  Administration  Marketing_Spend     Profit\n",
       "0  165349.20       136897.80        471784.10  192261.83\n",
       "1  162597.70       151377.59        443898.53  191792.06\n",
       "2  153441.51       101145.55        407934.54  191050.39\n",
       "3  144372.41       118671.85        383199.62  182901.99\n",
       "4  142107.34        91391.77        366168.42  166187.94"
      ]
     },
     "execution_count": 37,
     "metadata": {},
     "output_type": "execute_result"
    }
   ],
   "source": [
    "Data=df.drop(['State'],axis=1)\n",
    "Data.head()"
   ]
  },
  {
   "cell_type": "markdown",
   "id": "4c96bf69",
   "metadata": {},
   "source": [
    "# EDA"
   ]
  },
  {
   "cell_type": "code",
   "execution_count": 38,
   "id": "0ba1087a",
   "metadata": {
    "ExecuteTime": {
     "end_time": "2023-04-21T04:36:06.446705Z",
     "start_time": "2023-04-21T04:36:06.360384Z"
    }
   },
   "outputs": [
    {
     "name": "stdout",
     "output_type": "stream",
     "text": [
      "<class 'pandas.core.frame.DataFrame'>\n",
      "RangeIndex: 50 entries, 0 to 49\n",
      "Data columns (total 4 columns):\n",
      " #   Column           Non-Null Count  Dtype  \n",
      "---  ------           --------------  -----  \n",
      " 0   RD_Spend         50 non-null     float64\n",
      " 1   Administration   50 non-null     float64\n",
      " 2   Marketing_Spend  50 non-null     float64\n",
      " 3   Profit           50 non-null     float64\n",
      "dtypes: float64(4)\n",
      "memory usage: 1.7 KB\n"
     ]
    }
   ],
   "source": [
    "#here we are exploring our data\n",
    "Data.info()"
   ]
  },
  {
   "cell_type": "code",
   "execution_count": 39,
   "id": "3cda991f",
   "metadata": {
    "ExecuteTime": {
     "end_time": "2023-04-21T04:36:06.479118Z",
     "start_time": "2023-04-21T04:36:06.451725Z"
    }
   },
   "outputs": [
    {
     "data": {
      "text/plain": [
       "RD_Spend           0\n",
       "Administration     0\n",
       "Marketing_Spend    0\n",
       "Profit             0\n",
       "dtype: int64"
      ]
     },
     "execution_count": 39,
     "metadata": {},
     "output_type": "execute_result"
    }
   ],
   "source": [
    "# cheching if there is any missing values in the dataset\n",
    "Data.isna().sum()"
   ]
  },
  {
   "cell_type": "code",
   "execution_count": 40,
   "id": "108714e1",
   "metadata": {
    "ExecuteTime": {
     "end_time": "2023-04-21T04:36:06.601745Z",
     "start_time": "2023-04-21T04:36:06.487416Z"
    }
   },
   "outputs": [
    {
     "data": {
      "text/html": [
       "<div>\n",
       "<style scoped>\n",
       "    .dataframe tbody tr th:only-of-type {\n",
       "        vertical-align: middle;\n",
       "    }\n",
       "\n",
       "    .dataframe tbody tr th {\n",
       "        vertical-align: top;\n",
       "    }\n",
       "\n",
       "    .dataframe thead th {\n",
       "        text-align: right;\n",
       "    }\n",
       "</style>\n",
       "<table border=\"1\" class=\"dataframe\">\n",
       "  <thead>\n",
       "    <tr style=\"text-align: right;\">\n",
       "      <th></th>\n",
       "      <th>RD_Spend</th>\n",
       "      <th>Administration</th>\n",
       "      <th>Marketing_Spend</th>\n",
       "      <th>Profit</th>\n",
       "    </tr>\n",
       "  </thead>\n",
       "  <tbody>\n",
       "    <tr>\n",
       "      <th>count</th>\n",
       "      <td>50.000000</td>\n",
       "      <td>50.000000</td>\n",
       "      <td>50.000000</td>\n",
       "      <td>50.000000</td>\n",
       "    </tr>\n",
       "    <tr>\n",
       "      <th>mean</th>\n",
       "      <td>73721.615600</td>\n",
       "      <td>121344.639600</td>\n",
       "      <td>211025.097800</td>\n",
       "      <td>112012.639200</td>\n",
       "    </tr>\n",
       "    <tr>\n",
       "      <th>std</th>\n",
       "      <td>45902.256482</td>\n",
       "      <td>28017.802755</td>\n",
       "      <td>122290.310726</td>\n",
       "      <td>40306.180338</td>\n",
       "    </tr>\n",
       "    <tr>\n",
       "      <th>min</th>\n",
       "      <td>0.000000</td>\n",
       "      <td>51283.140000</td>\n",
       "      <td>0.000000</td>\n",
       "      <td>14681.400000</td>\n",
       "    </tr>\n",
       "    <tr>\n",
       "      <th>25%</th>\n",
       "      <td>39936.370000</td>\n",
       "      <td>103730.875000</td>\n",
       "      <td>129300.132500</td>\n",
       "      <td>90138.902500</td>\n",
       "    </tr>\n",
       "    <tr>\n",
       "      <th>50%</th>\n",
       "      <td>73051.080000</td>\n",
       "      <td>122699.795000</td>\n",
       "      <td>212716.240000</td>\n",
       "      <td>107978.190000</td>\n",
       "    </tr>\n",
       "    <tr>\n",
       "      <th>75%</th>\n",
       "      <td>101602.800000</td>\n",
       "      <td>144842.180000</td>\n",
       "      <td>299469.085000</td>\n",
       "      <td>139765.977500</td>\n",
       "    </tr>\n",
       "    <tr>\n",
       "      <th>max</th>\n",
       "      <td>165349.200000</td>\n",
       "      <td>182645.560000</td>\n",
       "      <td>471784.100000</td>\n",
       "      <td>192261.830000</td>\n",
       "    </tr>\n",
       "  </tbody>\n",
       "</table>\n",
       "</div>"
      ],
      "text/plain": [
       "            RD_Spend  Administration  Marketing_Spend         Profit\n",
       "count      50.000000       50.000000        50.000000      50.000000\n",
       "mean    73721.615600   121344.639600    211025.097800  112012.639200\n",
       "std     45902.256482    28017.802755    122290.310726   40306.180338\n",
       "min         0.000000    51283.140000         0.000000   14681.400000\n",
       "25%     39936.370000   103730.875000    129300.132500   90138.902500\n",
       "50%     73051.080000   122699.795000    212716.240000  107978.190000\n",
       "75%    101602.800000   144842.180000    299469.085000  139765.977500\n",
       "max    165349.200000   182645.560000    471784.100000  192261.830000"
      ]
     },
     "execution_count": 40,
     "metadata": {},
     "output_type": "execute_result"
    }
   ],
   "source": [
    "Data.describe()"
   ]
  },
  {
   "cell_type": "markdown",
   "id": "5df5c060",
   "metadata": {},
   "source": [
    "# Correkation Matrix"
   ]
  },
  {
   "cell_type": "code",
   "execution_count": 41,
   "id": "a14cbefc",
   "metadata": {
    "ExecuteTime": {
     "end_time": "2023-04-21T04:36:06.683700Z",
     "start_time": "2023-04-21T04:36:06.609099Z"
    }
   },
   "outputs": [
    {
     "data": {
      "text/html": [
       "<div>\n",
       "<style scoped>\n",
       "    .dataframe tbody tr th:only-of-type {\n",
       "        vertical-align: middle;\n",
       "    }\n",
       "\n",
       "    .dataframe tbody tr th {\n",
       "        vertical-align: top;\n",
       "    }\n",
       "\n",
       "    .dataframe thead th {\n",
       "        text-align: right;\n",
       "    }\n",
       "</style>\n",
       "<table border=\"1\" class=\"dataframe\">\n",
       "  <thead>\n",
       "    <tr style=\"text-align: right;\">\n",
       "      <th></th>\n",
       "      <th>RD_Spend</th>\n",
       "      <th>Administration</th>\n",
       "      <th>Marketing_Spend</th>\n",
       "      <th>Profit</th>\n",
       "    </tr>\n",
       "  </thead>\n",
       "  <tbody>\n",
       "    <tr>\n",
       "      <th>RD_Spend</th>\n",
       "      <td>1.000000</td>\n",
       "      <td>0.241955</td>\n",
       "      <td>0.724248</td>\n",
       "      <td>0.972900</td>\n",
       "    </tr>\n",
       "    <tr>\n",
       "      <th>Administration</th>\n",
       "      <td>0.241955</td>\n",
       "      <td>1.000000</td>\n",
       "      <td>-0.032154</td>\n",
       "      <td>0.200717</td>\n",
       "    </tr>\n",
       "    <tr>\n",
       "      <th>Marketing_Spend</th>\n",
       "      <td>0.724248</td>\n",
       "      <td>-0.032154</td>\n",
       "      <td>1.000000</td>\n",
       "      <td>0.747766</td>\n",
       "    </tr>\n",
       "    <tr>\n",
       "      <th>Profit</th>\n",
       "      <td>0.972900</td>\n",
       "      <td>0.200717</td>\n",
       "      <td>0.747766</td>\n",
       "      <td>1.000000</td>\n",
       "    </tr>\n",
       "  </tbody>\n",
       "</table>\n",
       "</div>"
      ],
      "text/plain": [
       "                 RD_Spend  Administration  Marketing_Spend    Profit\n",
       "RD_Spend         1.000000        0.241955         0.724248  0.972900\n",
       "Administration   0.241955        1.000000        -0.032154  0.200717\n",
       "Marketing_Spend  0.724248       -0.032154         1.000000  0.747766\n",
       "Profit           0.972900        0.200717         0.747766  1.000000"
      ]
     },
     "execution_count": 41,
     "metadata": {},
     "output_type": "execute_result"
    }
   ],
   "source": [
    "Data.corr()\n",
    "#here we can observe that the correlation between RD_Spend and Profit is very high(i.e, 0.97)"
   ]
  },
  {
   "cell_type": "code",
   "execution_count": 42,
   "id": "5bd7bba0",
   "metadata": {
    "ExecuteTime": {
     "end_time": "2023-04-21T04:36:12.422341Z",
     "start_time": "2023-04-21T04:36:06.689170Z"
    }
   },
   "outputs": [
    {
     "data": {
      "image/png": "[encoded data removed]",
      "text/plain": [
       "<Figure size 720x720 with 20 Axes>"
      ]
     },
     "metadata": {},
     "output_type": "display_data"
    }
   ],
   "source": [
    "sns.set_style(style='darkgrid')\n",
    "sns.pairplot(Data)\n",
    "plt.show()"
   ]
  },
  {
   "cell_type": "markdown",
   "id": "98562fd3",
   "metadata": {},
   "source": [
    "# Preaparing a Model"
   ]
  },
  {
   "cell_type": "code",
   "execution_count": 43,
   "id": "3642728e",
   "metadata": {
    "ExecuteTime": {
     "end_time": "2023-04-21T04:36:12.454368Z",
     "start_time": "2023-04-21T04:36:12.425686Z"
    }
   },
   "outputs": [],
   "source": [
    "import statsmodels.formula.api as smf\n",
    "model= smf.ols('Profit~RD_Spend+Administration+Marketing_Spend',data=Data).fit()"
   ]
  },
  {
   "cell_type": "code",
   "execution_count": 44,
   "id": "97dfa18c",
   "metadata": {
    "ExecuteTime": {
     "end_time": "2023-04-21T04:36:12.533686Z",
     "start_time": "2023-04-21T04:36:12.458699Z"
    }
   },
   "outputs": [
    {
     "data": {
      "text/html": [
       "<table class=\"simpletable\">\n",
       "<caption>OLS Regression Results</caption>\n",
       "<tr>\n",
       "  <th>Dep. Variable:</th>         <td>Profit</td>      <th>  R-squared:         </th> <td>   0.951</td>\n",
       "</tr>\n",
       "<tr>\n",
       "  <th>Model:</th>                   <td>OLS</td>       <th>  Adj. R-squared:    </th> <td>   0.948</td>\n",
       "</tr>\n",
       "<tr>\n",
       "  <th>Method:</th>             <td>Least Squares</td>  <th>  F-statistic:       </th> <td>   296.0</td>\n",
       "</tr>\n",
       "<tr>\n",
       "  <th>Date:</th>             <td>Fri, 21 Apr 2023</td> <th>  Prob (F-statistic):</th> <td>4.53e-30</td>\n",
       "</tr>\n",
       "<tr>\n",
       "  <th>Time:</th>                 <td>10:06:12</td>     <th>  Log-Likelihood:    </th> <td> -525.39</td>\n",
       "</tr>\n",
       "<tr>\n",
       "  <th>No. Observations:</th>      <td>    50</td>      <th>  AIC:               </th> <td>   1059.</td>\n",
       "</tr>\n",
       "<tr>\n",
       "  <th>Df Residuals:</th>          <td>    46</td>      <th>  BIC:               </th> <td>   1066.</td>\n",
       "</tr>\n",
       "<tr>\n",
       "  <th>Df Model:</th>              <td>     3</td>      <th>                     </th>     <td> </td>   \n",
       "</tr>\n",
       "<tr>\n",
       "  <th>Covariance Type:</th>      <td>nonrobust</td>    <th>                     </th>     <td> </td>   \n",
       "</tr>\n",
       "</table>\n",
       "<table class=\"simpletable\">\n",
       "<tr>\n",
       "         <td></td>            <th>coef</th>     <th>std err</th>      <th>t</th>      <th>P>|t|</th>  <th>[0.025</th>    <th>0.975]</th>  \n",
       "</tr>\n",
       "<tr>\n",
       "  <th>Intercept</th>       <td> 5.012e+04</td> <td> 6572.353</td> <td>    7.626</td> <td> 0.000</td> <td> 3.69e+04</td> <td> 6.34e+04</td>\n",
       "</tr>\n",
       "<tr>\n",
       "  <th>RD_Spend</th>        <td>    0.8057</td> <td>    0.045</td> <td>   17.846</td> <td> 0.000</td> <td>    0.715</td> <td>    0.897</td>\n",
       "</tr>\n",
       "<tr>\n",
       "  <th>Administration</th>  <td>   -0.0268</td> <td>    0.051</td> <td>   -0.526</td> <td> 0.602</td> <td>   -0.130</td> <td>    0.076</td>\n",
       "</tr>\n",
       "<tr>\n",
       "  <th>Marketing_Spend</th> <td>    0.0272</td> <td>    0.016</td> <td>    1.655</td> <td> 0.105</td> <td>   -0.006</td> <td>    0.060</td>\n",
       "</tr>\n",
       "</table>\n",
       "<table class=\"simpletable\">\n",
       "<tr>\n",
       "  <th>Omnibus:</th>       <td>14.838</td> <th>  Durbin-Watson:     </th> <td>   1.282</td>\n",
       "</tr>\n",
       "<tr>\n",
       "  <th>Prob(Omnibus):</th> <td> 0.001</td> <th>  Jarque-Bera (JB):  </th> <td>  21.442</td>\n",
       "</tr>\n",
       "<tr>\n",
       "  <th>Skew:</th>          <td>-0.949</td> <th>  Prob(JB):          </th> <td>2.21e-05</td>\n",
       "</tr>\n",
       "<tr>\n",
       "  <th>Kurtosis:</th>      <td> 5.586</td> <th>  Cond. No.          </th> <td>1.40e+06</td>\n",
       "</tr>\n",
       "</table><br/><br/>Notes:<br/>[1] Standard Errors assume that the covariance matrix of the errors is correctly specified.<br/>[2] The condition number is large, 1.4e+06. This might indicate that there are<br/>strong multicollinearity or other numerical problems."
      ],
      "text/plain": [
       "<class 'statsmodels.iolib.summary.Summary'>\n",
       "\"\"\"\n",
       "                            OLS Regression Results                            \n",
       "==============================================================================\n",
       "Dep. Variable:                 Profit   R-squared:                       0.951\n",
       "Model:                            OLS   Adj. R-squared:                  0.948\n",
       "Method:                 Least Squares   F-statistic:                     296.0\n",
       "Date:                Fri, 21 Apr 2023   Prob (F-statistic):           4.53e-30\n",
       "Time:                        10:06:12   Log-Likelihood:                -525.39\n",
       "No. Observations:                  50   AIC:                             1059.\n",
       "Df Residuals:                      46   BIC:                             1066.\n",
       "Df Model:                           3                                         \n",
       "Covariance Type:            nonrobust                                         \n",
       "===================================================================================\n",
       "                      coef    std err          t      P>|t|      [0.025      0.975]\n",
       "-----------------------------------------------------------------------------------\n",
       "Intercept        5.012e+04   6572.353      7.626      0.000    3.69e+04    6.34e+04\n",
       "RD_Spend            0.8057      0.045     17.846      0.000       0.715       0.897\n",
       "Administration     -0.0268      0.051     -0.526      0.602      -0.130       0.076\n",
       "Marketing_Spend     0.0272      0.016      1.655      0.105      -0.006       0.060\n",
       "==============================================================================\n",
       "Omnibus:                       14.838   Durbin-Watson:                   1.282\n",
       "Prob(Omnibus):                  0.001   Jarque-Bera (JB):               21.442\n",
       "Skew:                          -0.949   Prob(JB):                     2.21e-05\n",
       "Kurtosis:                       5.586   Cond. No.                     1.40e+06\n",
       "==============================================================================\n",
       "\n",
       "Notes:\n",
       "[1] Standard Errors assume that the covariance matrix of the errors is correctly specified.\n",
       "[2] The condition number is large, 1.4e+06. This might indicate that there are\n",
       "strong multicollinearity or other numerical problems.\n",
       "\"\"\""
      ]
     },
     "execution_count": 44,
     "metadata": {},
     "output_type": "execute_result"
    }
   ],
   "source": [
    "model.summary()"
   ]
  },
  {
   "cell_type": "code",
   "execution_count": 45,
   "id": "f0db15af",
   "metadata": {
    "ExecuteTime": {
     "end_time": "2023-04-21T04:36:12.567073Z",
     "start_time": "2023-04-21T04:36:12.541532Z"
    }
   },
   "outputs": [
    {
     "data": {
      "text/plain": [
       "Intercept          50122.192990\n",
       "RD_Spend               0.805715\n",
       "Administration        -0.026816\n",
       "Marketing_Spend        0.027228\n",
       "dtype: float64"
      ]
     },
     "execution_count": 45,
     "metadata": {},
     "output_type": "execute_result"
    }
   ],
   "source": [
    "#Coefficients\n",
    "model.params"
   ]
  },
  {
   "cell_type": "code",
   "execution_count": 46,
   "id": "d22ec639",
   "metadata": {
    "ExecuteTime": {
     "end_time": "2023-04-21T04:36:12.593823Z",
     "start_time": "2023-04-21T04:36:12.573268Z"
    },
    "scrolled": true
   },
   "outputs": [
    {
     "name": "stdout",
     "output_type": "stream",
     "text": [
      "Intercept           7.626218\n",
      "RD_Spend           17.846374\n",
      "Administration     -0.525507\n",
      "Marketing_Spend     1.655077\n",
      "dtype: float64 \n",
      " Intercept          1.057379e-09\n",
      "RD_Spend           2.634968e-22\n",
      "Administration     6.017551e-01\n",
      "Marketing_Spend    1.047168e-01\n",
      "dtype: float64\n"
     ]
    }
   ],
   "source": [
    "#t-Value and p-Value\n",
    "print(model.tvalues, '\\n', model.pvalues)\n",
    "#here Adminstration valur is >0.05 so it is insignifficant from us"
   ]
  },
  {
   "cell_type": "code",
   "execution_count": 47,
   "id": "c4d4fc3c",
   "metadata": {
    "ExecuteTime": {
     "end_time": "2023-04-21T04:39:31.965666Z",
     "start_time": "2023-04-21T04:39:31.946327Z"
    }
   },
   "outputs": [
    {
     "data": {
      "text/plain": [
       "(0.9507459940683246, 0.9475337762901719)"
      ]
     },
     "execution_count": 47,
     "metadata": {},
     "output_type": "execute_result"
    }
   ],
   "source": [
    "#R Squared Values\n",
    "#here we are including all the four features \n",
    "(model.rsquared,model.rsquared_adj)"
   ]
  },
  {
   "cell_type": "markdown",
   "id": "6119fee7",
   "metadata": {},
   "source": [
    "# Simple Linear Regression Models"
   ]
  },
  {
   "cell_type": "code",
   "execution_count": 51,
   "id": "180d8f14",
   "metadata": {
    "ExecuteTime": {
     "end_time": "2023-04-21T08:26:13.109372Z",
     "start_time": "2023-04-21T08:26:13.054270Z"
    }
   },
   "outputs": [
    {
     "name": "stdout",
     "output_type": "stream",
     "text": [
      "Intercept         3.040044\n",
      "Administration    1.419493\n",
      "dtype: float64 \n",
      " Intercept         0.003824\n",
      "Administration    0.162217\n",
      "dtype: float64\n"
     ]
    }
   ],
   "source": [
    "#Checking the R-square value individualy whether the R-square value of Administration is signifficant or not\n",
    "#Also find their t-Values and p-Values\n",
    "model_Adim=smf.ols('Profit~Administration', data=Data).fit()\n",
    "print(model_Adim.tvalues, '\\n', model_Adim.pvalues)"
   ]
  },
  {
   "cell_type": "code",
   "execution_count": 52,
   "id": "c40a01b9",
   "metadata": {
    "ExecuteTime": {
     "end_time": "2023-04-21T08:29:48.104892Z",
     "start_time": "2023-04-21T08:29:48.070947Z"
    }
   },
   "outputs": [
    {
     "name": "stdout",
     "output_type": "stream",
     "text": [
      "Intercept          7.808356\n",
      "Marketing_Spend    7.802657\n",
      "dtype: float64 \n",
      " Intercept          4.294735e-10\n",
      "Marketing_Spend    4.381073e-10\n",
      "dtype: float64\n"
     ]
    }
   ],
   "source": [
    "#Checking the R-square value individualy whether the R-square value of Marketing_Spend is signifficant or not\n",
    "#Also find their t-Values and p-Values\n",
    "model_Mts=smf.ols('Profit~Marketing_Spend', data=Data).fit()\n",
    "print(model_Mts.tvalues, '\\n', model_Mts.pvalues)\n",
    "#here the Marketin_Spend is signifficant because the p-Value<0.05"
   ]
  },
  {
   "cell_type": "code",
   "execution_count": 56,
   "id": "e7c7e25f",
   "metadata": {
    "ExecuteTime": {
     "end_time": "2023-04-21T08:37:54.621822Z",
     "start_time": "2023-04-21T08:37:54.571579Z"
    }
   },
   "outputs": [
    {
     "name": "stdout",
     "output_type": "stream",
     "text": [
      "Intercept          1.142741\n",
      "Administration     2.467779\n",
      "Marketing_Spend    8.281039\n",
      "dtype: float64 \n",
      " Intercept          2.589341e-01\n",
      "Administration     1.729198e-02\n",
      "Marketing_Spend    9.727245e-11\n",
      "dtype: float64\n"
     ]
    }
   ],
   "source": [
    "#here we are combining the both Adminstration and Marketing_Spend togther and to build the model\n",
    "model_AM=smf.ols('Profit~Administration+Marketing_Spend', data=Data).fit()\n",
    "print(model_AM.tvalues, '\\n', model_AM.pvalues)\n",
    "#here while we combining the both values p-Values together it will increasing >0.05\n",
    "#so the both are insignifficant,so these is happening because of multicolinearity\n",
    "#to fix that problem of multicolinearity by using VIF method"
   ]
  },
  {
   "cell_type": "markdown",
   "id": "f438e9ff",
   "metadata": {},
   "source": [
    "# Calculating Variance Inflation Factor (VIF)"
   ]
  },
  {
   "cell_type": "code",
   "execution_count": 60,
   "id": "3b22dfa6",
   "metadata": {
    "ExecuteTime": {
     "end_time": "2023-04-21T08:58:35.122099Z",
     "start_time": "2023-04-21T08:58:35.013920Z"
    }
   },
   "outputs": [
    {
     "data": {
      "text/html": [
       "<div>\n",
       "<style scoped>\n",
       "    .dataframe tbody tr th:only-of-type {\n",
       "        vertical-align: middle;\n",
       "    }\n",
       "\n",
       "    .dataframe tbody tr th {\n",
       "        vertical-align: top;\n",
       "    }\n",
       "\n",
       "    .dataframe thead th {\n",
       "        text-align: right;\n",
       "    }\n",
       "</style>\n",
       "<table border=\"1\" class=\"dataframe\">\n",
       "  <thead>\n",
       "    <tr style=\"text-align: right;\">\n",
       "      <th></th>\n",
       "      <th>Variables</th>\n",
       "      <th>VIF</th>\n",
       "    </tr>\n",
       "  </thead>\n",
       "  <tbody>\n",
       "    <tr>\n",
       "      <th>0</th>\n",
       "      <td>rds</td>\n",
       "      <td>2.468903</td>\n",
       "    </tr>\n",
       "    <tr>\n",
       "      <th>1</th>\n",
       "      <td>adm</td>\n",
       "      <td>1.175091</td>\n",
       "    </tr>\n",
       "    <tr>\n",
       "      <th>2</th>\n",
       "      <td>mts</td>\n",
       "      <td>2.326773</td>\n",
       "    </tr>\n",
       "  </tbody>\n",
       "</table>\n",
       "</div>"
      ],
      "text/plain": [
       "  Variables       VIF\n",
       "0       rds  2.468903\n",
       "1       adm  1.175091\n",
       "2       mts  2.326773"
      ]
     },
     "execution_count": 60,
     "metadata": {},
     "output_type": "execute_result"
    }
   ],
   "source": [
    "rsq_rds=smf.ols('RD_Spend~Administration+Marketing_Spend',data=Data).fit().rsquared\n",
    "vif_rds=1/(1-rsq_rds)\n",
    "\n",
    "rsq_adm=smf.ols('Administration~RD_Spend+Marketing_Spend',data=Data).fit().rsquared\n",
    "vif_adm=1/(1-rsq_adm)\n",
    "\n",
    "rsq_mts=smf.ols('Marketing_Spend~RD_Spend+Administration', data=Data).fit().rsquared\n",
    "vif_mts=1/(1-rsq_mts)\n",
    "\n",
    "#sorting thw vif values in a data frame\n",
    "d1={'Variables':['rds','adm','mts'],'VIF':[vif_rds,vif_adm,vif_mts]}\n",
    "Vif_frame = pd.DataFrame(d1)\n",
    "Vif_frame"
   ]
  },
  {
   "cell_type": "code",
   "execution_count": 61,
   "id": "064fbc79",
   "metadata": {
    "ExecuteTime": {
     "end_time": "2023-04-21T08:59:35.969551Z",
     "start_time": "2023-04-21T08:59:35.954043Z"
    }
   },
   "outputs": [],
   "source": [
    "#Clearly we can observe that we should eliminate Marketing_Spend"
   ]
  },
  {
   "cell_type": "markdown",
   "id": "1c2c767c",
   "metadata": {},
   "source": [
    "# Model Validation Techiniques(MVT)"
   ]
  },
  {
   "cell_type": "code",
   "execution_count": 64,
   "id": "7d43e6e7",
   "metadata": {
    "ExecuteTime": {
     "end_time": "2023-04-21T09:07:44.681391Z",
     "start_time": "2023-04-21T09:07:44.333938Z"
    }
   },
   "outputs": [
    {
     "data": {
      "image/png": "[encoded data removed]",
      "text/plain": [
       "<Figure size 432x288 with 1 Axes>"
      ]
     },
     "metadata": {},
     "output_type": "display_data"
    }
   ],
   "source": [
    "#QQ plot\n",
    "\n",
    "import statsmodels.api as sm\n",
    "qqplot=sm.qqplot(model.resid,line='q')\n",
    "plt.title(\"Q-Q Plot of Residuals\")\n",
    "plt.show()"
   ]
  },
  {
   "cell_type": "code",
   "execution_count": 67,
   "id": "67a51205",
   "metadata": {
    "ExecuteTime": {
     "end_time": "2023-04-21T09:14:54.782980Z",
     "start_time": "2023-04-21T09:14:54.767321Z"
    }
   },
   "outputs": [],
   "source": [
    "# Residual Plot\n",
    "def get_standardized_values(vals):\n",
    "    return (vals - vals.mean())/vals.std()"
   ]
  },
  {
   "cell_type": "code",
   "execution_count": 69,
   "id": "b79f899c",
   "metadata": {
    "ExecuteTime": {
     "end_time": "2023-04-21T09:16:51.918581Z",
     "start_time": "2023-04-21T09:16:51.544850Z"
    }
   },
   "outputs": [
    {
     "data": {
      "image/png": "[encoded data removed]",
      "text/plain": [
       "<Figure size 432x288 with 1 Axes>"
      ]
     },
     "metadata": {},
     "output_type": "display_data"
    }
   ],
   "source": [
    "#here we are applying the above functon on the fitted values\n",
    "plt.scatter(get_standardized_values(model.fittedvalues),\n",
    "           get_standardized_values(model.resid))\n",
    "\n",
    "plt.title(\"Residual Plot\")\n",
    "plt.xlabel(\"Standardized Fitted values\")\n",
    "plt.ylabel(\"Standardized Residual values\")\n",
    "plt.show()"
   ]
  },
  {
   "cell_type": "code",
   "execution_count": 72,
   "id": "68f4ae90",
   "metadata": {
    "ExecuteTime": {
     "end_time": "2023-04-21T09:24:42.037297Z",
     "start_time": "2023-04-21T09:24:40.727294Z"
    }
   },
   "outputs": [
    {
     "name": "stdout",
     "output_type": "stream",
     "text": [
      "eval_env: 1\n"
     ]
    },
    {
     "data": {
      "image/png": "[encoded data removed]",
      "text/plain": [
       "<Figure size 1080x576 with 4 Axes>"
      ]
     },
     "metadata": {},
     "output_type": "display_data"
    }
   ],
   "source": [
    "# Residual Vs Regressors\n",
    "\n",
    "fig = plt.figure(figsize=(15,8))\n",
    "fig = sm.graphics.plot_regress_exog(model, \"RD_Spend\", fig=fig)\n",
    "plt.show()"
   ]
  },
  {
   "cell_type": "code",
   "execution_count": 73,
   "id": "6c0ea57b",
   "metadata": {
    "ExecuteTime": {
     "end_time": "2023-04-21T09:25:01.668035Z",
     "start_time": "2023-04-21T09:25:00.291316Z"
    }
   },
   "outputs": [
    {
     "name": "stdout",
     "output_type": "stream",
     "text": [
      "eval_env: 1\n"
     ]
    },
    {
     "data": {
      "image/png": "[encoded data removed]",
      "text/plain": [
       "<Figure size 1080x576 with 4 Axes>"
      ]
     },
     "metadata": {},
     "output_type": "display_data"
    }
   ],
   "source": [
    "fig = plt.figure(figsize=(15,8))\n",
    "fig = sm.graphics.plot_regress_exog(model, \"Administration\", fig=fig)"
   ]
  },
  {
   "cell_type": "code",
   "execution_count": 74,
   "id": "09aa477d",
   "metadata": {
    "ExecuteTime": {
     "end_time": "2023-04-21T09:26:50.990426Z",
     "start_time": "2023-04-21T09:26:49.343248Z"
    }
   },
   "outputs": [
    {
     "name": "stdout",
     "output_type": "stream",
     "text": [
      "eval_env: 1\n"
     ]
    },
    {
     "data": {
      "image/png": "[encoded data removed]",
      "text/plain": [
       "<Figure size 1080x576 with 4 Axes>"
      ]
     },
     "metadata": {},
     "output_type": "display_data"
    }
   ],
   "source": [
    "fig= plt.figure(figsize=(15,8))\n",
    "fig= sm.graphics.plot_regress_exog(model, \"Marketing_Spend\", fig=fig)"
   ]
  },
  {
   "cell_type": "markdown",
   "id": "678a3ec0",
   "metadata": {},
   "source": [
    "# Model Deletion Diagnostics\n",
    "  - Detecting Influences/Outliers"
   ]
  },
  {
   "cell_type": "markdown",
   "id": "e53f8a7e",
   "metadata": {},
   "source": [
    "# Cook's Distance"
   ]
  },
  {
   "cell_type": "code",
   "execution_count": 75,
   "id": "109772ac",
   "metadata": {
    "ExecuteTime": {
     "end_time": "2023-04-21T09:38:58.991428Z",
     "start_time": "2023-04-21T09:38:58.978463Z"
    }
   },
   "outputs": [],
   "source": [
    "model_influence = model.get_influence()\n",
    "(c, _) = model_influence.cooks_distance"
   ]
  },
  {
   "cell_type": "code",
   "execution_count": 78,
   "id": "9daefe12",
   "metadata": {
    "ExecuteTime": {
     "end_time": "2023-04-21T09:43:43.334806Z",
     "start_time": "2023-04-21T09:43:43.000639Z"
    }
   },
   "outputs": [
    {
     "data": {
      "image/png": "[encoded data removed]",
      "text/plain": [
       "<Figure size 1440x504 with 1 Axes>"
      ]
     },
     "metadata": {},
     "output_type": "display_data"
    }
   ],
   "source": [
    "#Plot the influencers values using stem plot\n",
    "fig = plt.subplots(figsize=(20,7))\n",
    "plt.stem(np.arange(len(Data)), np.round(c, 3))\n",
    "plt.xlabel('Row index')\n",
    "plt.ylabel('Cooks Distance')\n",
    "plt.show()"
   ]
  },
  {
   "cell_type": "code",
   "execution_count": 79,
   "id": "940972aa",
   "metadata": {
    "ExecuteTime": {
     "end_time": "2023-04-21T09:44:20.286090Z",
     "start_time": "2023-04-21T09:44:20.254244Z"
    }
   },
   "outputs": [
    {
     "data": {
      "text/plain": [
       "(49, 0.28808229275432634)"
      ]
     },
     "execution_count": 79,
     "metadata": {},
     "output_type": "execute_result"
    }
   ],
   "source": [
    "(np.argmax(c),np.max(c))"
   ]
  },
  {
   "cell_type": "code",
   "execution_count": 80,
   "id": "5cf64770",
   "metadata": {
    "ExecuteTime": {
     "end_time": "2023-04-21T09:44:48.249110Z",
     "start_time": "2023-04-21T09:44:48.243125Z"
    }
   },
   "outputs": [],
   "source": [
    "#All Observations are below 1,So we can say that there are no Outliers"
   ]
  },
  {
   "cell_type": "markdown",
   "id": "55327ab0",
   "metadata": {},
   "source": [
    "# High Influence points"
   ]
  },
  {
   "cell_type": "code",
   "execution_count": 81,
   "id": "1630d6dd",
   "metadata": {
    "ExecuteTime": {
     "end_time": "2023-04-21T09:46:09.186135Z",
     "start_time": "2023-04-21T09:46:08.741436Z"
    }
   },
   "outputs": [
    {
     "data": {
      "image/png": "[encoded data removed]",
      "text/plain": [
       "<Figure size 432x288 with 1 Axes>"
      ]
     },
     "metadata": {},
     "output_type": "display_data"
    }
   ],
   "source": [
    "from statsmodels.graphics.regressionplots import influence_plot\n",
    "influence_plot(model)\n",
    "plt.show()"
   ]
  },
  {
   "cell_type": "code",
   "execution_count": 82,
   "id": "c97aa901",
   "metadata": {
    "ExecuteTime": {
     "end_time": "2023-04-21T09:48:09.576803Z",
     "start_time": "2023-04-21T09:48:09.561179Z"
    }
   },
   "outputs": [
    {
     "data": {
      "text/plain": [
       "0.24"
      ]
     },
     "execution_count": 82,
     "metadata": {},
     "output_type": "execute_result"
    }
   ],
   "source": [
    "k = 3\n",
    "n = Data.shape[0]\n",
    "leverage_cuttoff = 3*((k + 1)/n)\n",
    "leverage_cuttoff"
   ]
  },
  {
   "cell_type": "code",
   "execution_count": 83,
   "id": "099adcd2",
   "metadata": {
    "ExecuteTime": {
     "end_time": "2023-04-21T09:49:29.221053Z",
     "start_time": "2023-04-21T09:49:29.204098Z"
    }
   },
   "outputs": [],
   "source": [
    "#from the above influence plot we can see that 46th observsation is beyond the levarage value 0.24 \n",
    "#so we consider that 46th observation as Outlier , so we have to remove that observation "
   ]
  },
  {
   "cell_type": "code",
   "execution_count": 84,
   "id": "dca029d1",
   "metadata": {
    "ExecuteTime": {
     "end_time": "2023-04-21T09:50:10.724630Z",
     "start_time": "2023-04-21T09:50:10.677757Z"
    }
   },
   "outputs": [
    {
     "data": {
      "text/html": [
       "<div>\n",
       "<style scoped>\n",
       "    .dataframe tbody tr th:only-of-type {\n",
       "        vertical-align: middle;\n",
       "    }\n",
       "\n",
       "    .dataframe tbody tr th {\n",
       "        vertical-align: top;\n",
       "    }\n",
       "\n",
       "    .dataframe thead th {\n",
       "        text-align: right;\n",
       "    }\n",
       "</style>\n",
       "<table border=\"1\" class=\"dataframe\">\n",
       "  <thead>\n",
       "    <tr style=\"text-align: right;\">\n",
       "      <th></th>\n",
       "      <th>RD_Spend</th>\n",
       "      <th>Administration</th>\n",
       "      <th>Marketing_Spend</th>\n",
       "      <th>Profit</th>\n",
       "    </tr>\n",
       "  </thead>\n",
       "  <tbody>\n",
       "    <tr>\n",
       "      <th>46</th>\n",
       "      <td>1315.46</td>\n",
       "      <td>115816.21</td>\n",
       "      <td>297114.46</td>\n",
       "      <td>49490.75</td>\n",
       "    </tr>\n",
       "  </tbody>\n",
       "</table>\n",
       "</div>"
      ],
      "text/plain": [
       "    RD_Spend  Administration  Marketing_Spend    Profit\n",
       "46   1315.46       115816.21        297114.46  49490.75"
      ]
     },
     "execution_count": 84,
     "metadata": {},
     "output_type": "execute_result"
    }
   ],
   "source": [
    "Data[Data.index.isin([46])]"
   ]
  },
  {
   "cell_type": "code",
   "execution_count": 85,
   "id": "9df718be",
   "metadata": {
    "ExecuteTime": {
     "end_time": "2023-04-21T09:50:39.979037Z",
     "start_time": "2023-04-21T09:50:39.947121Z"
    }
   },
   "outputs": [
    {
     "data": {
      "text/html": [
       "<div>\n",
       "<style scoped>\n",
       "    .dataframe tbody tr th:only-of-type {\n",
       "        vertical-align: middle;\n",
       "    }\n",
       "\n",
       "    .dataframe tbody tr th {\n",
       "        vertical-align: top;\n",
       "    }\n",
       "\n",
       "    .dataframe thead th {\n",
       "        text-align: right;\n",
       "    }\n",
       "</style>\n",
       "<table border=\"1\" class=\"dataframe\">\n",
       "  <thead>\n",
       "    <tr style=\"text-align: right;\">\n",
       "      <th></th>\n",
       "      <th>RD_Spend</th>\n",
       "      <th>Administration</th>\n",
       "      <th>Marketing_Spend</th>\n",
       "      <th>Profit</th>\n",
       "    </tr>\n",
       "  </thead>\n",
       "  <tbody>\n",
       "    <tr>\n",
       "      <th>0</th>\n",
       "      <td>165349.20</td>\n",
       "      <td>136897.80</td>\n",
       "      <td>471784.10</td>\n",
       "      <td>192261.83</td>\n",
       "    </tr>\n",
       "    <tr>\n",
       "      <th>1</th>\n",
       "      <td>162597.70</td>\n",
       "      <td>151377.59</td>\n",
       "      <td>443898.53</td>\n",
       "      <td>191792.06</td>\n",
       "    </tr>\n",
       "    <tr>\n",
       "      <th>2</th>\n",
       "      <td>153441.51</td>\n",
       "      <td>101145.55</td>\n",
       "      <td>407934.54</td>\n",
       "      <td>191050.39</td>\n",
       "    </tr>\n",
       "    <tr>\n",
       "      <th>3</th>\n",
       "      <td>144372.41</td>\n",
       "      <td>118671.85</td>\n",
       "      <td>383199.62</td>\n",
       "      <td>182901.99</td>\n",
       "    </tr>\n",
       "    <tr>\n",
       "      <th>4</th>\n",
       "      <td>142107.34</td>\n",
       "      <td>91391.77</td>\n",
       "      <td>366168.42</td>\n",
       "      <td>166187.94</td>\n",
       "    </tr>\n",
       "  </tbody>\n",
       "</table>\n",
       "</div>"
      ],
      "text/plain": [
       "    RD_Spend  Administration  Marketing_Spend     Profit\n",
       "0  165349.20       136897.80        471784.10  192261.83\n",
       "1  162597.70       151377.59        443898.53  191792.06\n",
       "2  153441.51       101145.55        407934.54  191050.39\n",
       "3  144372.41       118671.85        383199.62  182901.99\n",
       "4  142107.34        91391.77        366168.42  166187.94"
      ]
     },
     "execution_count": 85,
     "metadata": {},
     "output_type": "execute_result"
    }
   ],
   "source": [
    "Data.head()"
   ]
  },
  {
   "cell_type": "markdown",
   "id": "17651c35",
   "metadata": {},
   "source": [
    "# Improving the model"
   ]
  },
  {
   "cell_type": "code",
   "execution_count": 86,
   "id": "d2a5b0cc",
   "metadata": {
    "ExecuteTime": {
     "end_time": "2023-04-21T09:53:25.362392Z",
     "start_time": "2023-04-21T09:53:25.339454Z"
    }
   },
   "outputs": [],
   "source": [
    "#load dataset\n",
    "df = pd.read_csv('50_Startups.csv')"
   ]
  },
  {
   "cell_type": "code",
   "execution_count": 99,
   "id": "0aaca58a",
   "metadata": {
    "ExecuteTime": {
     "end_time": "2023-04-21T10:01:31.293452Z",
     "start_time": "2023-04-21T10:01:31.218905Z"
    }
   },
   "outputs": [
    {
     "data": {
      "text/html": [
       "<div>\n",
       "<style scoped>\n",
       "    .dataframe tbody tr th:only-of-type {\n",
       "        vertical-align: middle;\n",
       "    }\n",
       "\n",
       "    .dataframe tbody tr th {\n",
       "        vertical-align: top;\n",
       "    }\n",
       "\n",
       "    .dataframe thead th {\n",
       "        text-align: right;\n",
       "    }\n",
       "</style>\n",
       "<table border=\"1\" class=\"dataframe\">\n",
       "  <thead>\n",
       "    <tr style=\"text-align: right;\">\n",
       "      <th></th>\n",
       "      <th>index</th>\n",
       "      <th>RD_Spend</th>\n",
       "      <th>Administration</th>\n",
       "      <th>Marketing_Spend</th>\n",
       "      <th>Profit</th>\n",
       "    </tr>\n",
       "  </thead>\n",
       "  <tbody>\n",
       "    <tr>\n",
       "      <th>0</th>\n",
       "      <td>0</td>\n",
       "      <td>165349.20</td>\n",
       "      <td>136897.80</td>\n",
       "      <td>471784.10</td>\n",
       "      <td>192261.83</td>\n",
       "    </tr>\n",
       "    <tr>\n",
       "      <th>1</th>\n",
       "      <td>1</td>\n",
       "      <td>162597.70</td>\n",
       "      <td>151377.59</td>\n",
       "      <td>443898.53</td>\n",
       "      <td>191792.06</td>\n",
       "    </tr>\n",
       "    <tr>\n",
       "      <th>2</th>\n",
       "      <td>2</td>\n",
       "      <td>153441.51</td>\n",
       "      <td>101145.55</td>\n",
       "      <td>407934.54</td>\n",
       "      <td>191050.39</td>\n",
       "    </tr>\n",
       "    <tr>\n",
       "      <th>3</th>\n",
       "      <td>3</td>\n",
       "      <td>144372.41</td>\n",
       "      <td>118671.85</td>\n",
       "      <td>383199.62</td>\n",
       "      <td>182901.99</td>\n",
       "    </tr>\n",
       "    <tr>\n",
       "      <th>4</th>\n",
       "      <td>4</td>\n",
       "      <td>142107.34</td>\n",
       "      <td>91391.77</td>\n",
       "      <td>366168.42</td>\n",
       "      <td>166187.94</td>\n",
       "    </tr>\n",
       "    <tr>\n",
       "      <th>5</th>\n",
       "      <td>5</td>\n",
       "      <td>131876.90</td>\n",
       "      <td>99814.71</td>\n",
       "      <td>362861.36</td>\n",
       "      <td>156991.12</td>\n",
       "    </tr>\n",
       "    <tr>\n",
       "      <th>6</th>\n",
       "      <td>6</td>\n",
       "      <td>134615.46</td>\n",
       "      <td>147198.87</td>\n",
       "      <td>127716.82</td>\n",
       "      <td>156122.51</td>\n",
       "    </tr>\n",
       "    <tr>\n",
       "      <th>7</th>\n",
       "      <td>7</td>\n",
       "      <td>130298.13</td>\n",
       "      <td>145530.06</td>\n",
       "      <td>323876.68</td>\n",
       "      <td>155752.60</td>\n",
       "    </tr>\n",
       "    <tr>\n",
       "      <th>8</th>\n",
       "      <td>8</td>\n",
       "      <td>120542.52</td>\n",
       "      <td>148718.95</td>\n",
       "      <td>311613.29</td>\n",
       "      <td>152211.77</td>\n",
       "    </tr>\n",
       "    <tr>\n",
       "      <th>9</th>\n",
       "      <td>9</td>\n",
       "      <td>123334.88</td>\n",
       "      <td>108679.17</td>\n",
       "      <td>304981.62</td>\n",
       "      <td>149759.96</td>\n",
       "    </tr>\n",
       "    <tr>\n",
       "      <th>10</th>\n",
       "      <td>10</td>\n",
       "      <td>101913.08</td>\n",
       "      <td>110594.11</td>\n",
       "      <td>229160.95</td>\n",
       "      <td>146121.95</td>\n",
       "    </tr>\n",
       "    <tr>\n",
       "      <th>11</th>\n",
       "      <td>11</td>\n",
       "      <td>100671.96</td>\n",
       "      <td>91790.61</td>\n",
       "      <td>249744.55</td>\n",
       "      <td>144259.40</td>\n",
       "    </tr>\n",
       "    <tr>\n",
       "      <th>12</th>\n",
       "      <td>12</td>\n",
       "      <td>93863.75</td>\n",
       "      <td>127320.38</td>\n",
       "      <td>249839.44</td>\n",
       "      <td>141585.52</td>\n",
       "    </tr>\n",
       "    <tr>\n",
       "      <th>13</th>\n",
       "      <td>13</td>\n",
       "      <td>91992.39</td>\n",
       "      <td>135495.07</td>\n",
       "      <td>252664.93</td>\n",
       "      <td>134307.35</td>\n",
       "    </tr>\n",
       "    <tr>\n",
       "      <th>14</th>\n",
       "      <td>14</td>\n",
       "      <td>119943.24</td>\n",
       "      <td>156547.42</td>\n",
       "      <td>256512.92</td>\n",
       "      <td>132602.65</td>\n",
       "    </tr>\n",
       "    <tr>\n",
       "      <th>15</th>\n",
       "      <td>15</td>\n",
       "      <td>114523.61</td>\n",
       "      <td>122616.84</td>\n",
       "      <td>261776.23</td>\n",
       "      <td>129917.04</td>\n",
       "    </tr>\n",
       "    <tr>\n",
       "      <th>16</th>\n",
       "      <td>16</td>\n",
       "      <td>78013.11</td>\n",
       "      <td>121597.55</td>\n",
       "      <td>264346.06</td>\n",
       "      <td>126992.93</td>\n",
       "    </tr>\n",
       "    <tr>\n",
       "      <th>17</th>\n",
       "      <td>17</td>\n",
       "      <td>94657.16</td>\n",
       "      <td>145077.58</td>\n",
       "      <td>282574.31</td>\n",
       "      <td>125370.37</td>\n",
       "    </tr>\n",
       "    <tr>\n",
       "      <th>18</th>\n",
       "      <td>18</td>\n",
       "      <td>91749.16</td>\n",
       "      <td>114175.79</td>\n",
       "      <td>294919.57</td>\n",
       "      <td>124266.90</td>\n",
       "    </tr>\n",
       "    <tr>\n",
       "      <th>19</th>\n",
       "      <td>19</td>\n",
       "      <td>86419.70</td>\n",
       "      <td>153514.11</td>\n",
       "      <td>0.00</td>\n",
       "      <td>122776.86</td>\n",
       "    </tr>\n",
       "    <tr>\n",
       "      <th>20</th>\n",
       "      <td>20</td>\n",
       "      <td>76253.86</td>\n",
       "      <td>113867.30</td>\n",
       "      <td>298664.47</td>\n",
       "      <td>118474.03</td>\n",
       "    </tr>\n",
       "    <tr>\n",
       "      <th>21</th>\n",
       "      <td>21</td>\n",
       "      <td>78389.47</td>\n",
       "      <td>153773.43</td>\n",
       "      <td>299737.29</td>\n",
       "      <td>111313.02</td>\n",
       "    </tr>\n",
       "    <tr>\n",
       "      <th>22</th>\n",
       "      <td>22</td>\n",
       "      <td>73994.56</td>\n",
       "      <td>122782.75</td>\n",
       "      <td>303319.26</td>\n",
       "      <td>110352.25</td>\n",
       "    </tr>\n",
       "    <tr>\n",
       "      <th>23</th>\n",
       "      <td>23</td>\n",
       "      <td>67532.53</td>\n",
       "      <td>105751.03</td>\n",
       "      <td>304768.73</td>\n",
       "      <td>108733.99</td>\n",
       "    </tr>\n",
       "    <tr>\n",
       "      <th>24</th>\n",
       "      <td>24</td>\n",
       "      <td>77044.01</td>\n",
       "      <td>99281.34</td>\n",
       "      <td>140574.81</td>\n",
       "      <td>108552.04</td>\n",
       "    </tr>\n",
       "    <tr>\n",
       "      <th>25</th>\n",
       "      <td>25</td>\n",
       "      <td>64664.71</td>\n",
       "      <td>139553.16</td>\n",
       "      <td>137962.62</td>\n",
       "      <td>107404.34</td>\n",
       "    </tr>\n",
       "    <tr>\n",
       "      <th>26</th>\n",
       "      <td>26</td>\n",
       "      <td>75328.87</td>\n",
       "      <td>144135.98</td>\n",
       "      <td>134050.07</td>\n",
       "      <td>105733.54</td>\n",
       "    </tr>\n",
       "    <tr>\n",
       "      <th>27</th>\n",
       "      <td>27</td>\n",
       "      <td>72107.60</td>\n",
       "      <td>127864.55</td>\n",
       "      <td>353183.81</td>\n",
       "      <td>105008.31</td>\n",
       "    </tr>\n",
       "    <tr>\n",
       "      <th>28</th>\n",
       "      <td>28</td>\n",
       "      <td>66051.52</td>\n",
       "      <td>182645.56</td>\n",
       "      <td>118148.20</td>\n",
       "      <td>103282.38</td>\n",
       "    </tr>\n",
       "    <tr>\n",
       "      <th>29</th>\n",
       "      <td>29</td>\n",
       "      <td>65605.48</td>\n",
       "      <td>153032.06</td>\n",
       "      <td>107138.38</td>\n",
       "      <td>101004.64</td>\n",
       "    </tr>\n",
       "    <tr>\n",
       "      <th>30</th>\n",
       "      <td>30</td>\n",
       "      <td>61994.48</td>\n",
       "      <td>115641.28</td>\n",
       "      <td>91131.24</td>\n",
       "      <td>99937.59</td>\n",
       "    </tr>\n",
       "    <tr>\n",
       "      <th>31</th>\n",
       "      <td>31</td>\n",
       "      <td>61136.38</td>\n",
       "      <td>152701.92</td>\n",
       "      <td>88218.23</td>\n",
       "      <td>97483.56</td>\n",
       "    </tr>\n",
       "    <tr>\n",
       "      <th>32</th>\n",
       "      <td>32</td>\n",
       "      <td>63408.86</td>\n",
       "      <td>129219.61</td>\n",
       "      <td>46085.25</td>\n",
       "      <td>97427.84</td>\n",
       "    </tr>\n",
       "    <tr>\n",
       "      <th>33</th>\n",
       "      <td>33</td>\n",
       "      <td>55493.95</td>\n",
       "      <td>103057.49</td>\n",
       "      <td>214634.81</td>\n",
       "      <td>96778.92</td>\n",
       "    </tr>\n",
       "    <tr>\n",
       "      <th>34</th>\n",
       "      <td>34</td>\n",
       "      <td>46426.07</td>\n",
       "      <td>157693.92</td>\n",
       "      <td>210797.67</td>\n",
       "      <td>96712.80</td>\n",
       "    </tr>\n",
       "    <tr>\n",
       "      <th>35</th>\n",
       "      <td>35</td>\n",
       "      <td>46014.02</td>\n",
       "      <td>85047.44</td>\n",
       "      <td>205517.64</td>\n",
       "      <td>96479.51</td>\n",
       "    </tr>\n",
       "    <tr>\n",
       "      <th>36</th>\n",
       "      <td>36</td>\n",
       "      <td>28663.76</td>\n",
       "      <td>127056.21</td>\n",
       "      <td>201126.82</td>\n",
       "      <td>90708.19</td>\n",
       "    </tr>\n",
       "    <tr>\n",
       "      <th>37</th>\n",
       "      <td>37</td>\n",
       "      <td>44069.95</td>\n",
       "      <td>51283.14</td>\n",
       "      <td>197029.42</td>\n",
       "      <td>89949.14</td>\n",
       "    </tr>\n",
       "    <tr>\n",
       "      <th>38</th>\n",
       "      <td>38</td>\n",
       "      <td>20229.59</td>\n",
       "      <td>65947.93</td>\n",
       "      <td>185265.10</td>\n",
       "      <td>81229.06</td>\n",
       "    </tr>\n",
       "    <tr>\n",
       "      <th>39</th>\n",
       "      <td>39</td>\n",
       "      <td>38558.51</td>\n",
       "      <td>82982.09</td>\n",
       "      <td>174999.30</td>\n",
       "      <td>81005.76</td>\n",
       "    </tr>\n",
       "    <tr>\n",
       "      <th>40</th>\n",
       "      <td>40</td>\n",
       "      <td>28754.33</td>\n",
       "      <td>118546.05</td>\n",
       "      <td>172795.67</td>\n",
       "      <td>78239.91</td>\n",
       "    </tr>\n",
       "    <tr>\n",
       "      <th>41</th>\n",
       "      <td>41</td>\n",
       "      <td>27892.92</td>\n",
       "      <td>84710.77</td>\n",
       "      <td>164470.71</td>\n",
       "      <td>77798.83</td>\n",
       "    </tr>\n",
       "    <tr>\n",
       "      <th>42</th>\n",
       "      <td>42</td>\n",
       "      <td>23640.93</td>\n",
       "      <td>96189.63</td>\n",
       "      <td>148001.11</td>\n",
       "      <td>71498.49</td>\n",
       "    </tr>\n",
       "    <tr>\n",
       "      <th>43</th>\n",
       "      <td>43</td>\n",
       "      <td>15505.73</td>\n",
       "      <td>127382.30</td>\n",
       "      <td>35534.17</td>\n",
       "      <td>69758.98</td>\n",
       "    </tr>\n",
       "    <tr>\n",
       "      <th>44</th>\n",
       "      <td>44</td>\n",
       "      <td>22177.74</td>\n",
       "      <td>154806.14</td>\n",
       "      <td>28334.72</td>\n",
       "      <td>65200.33</td>\n",
       "    </tr>\n",
       "    <tr>\n",
       "      <th>45</th>\n",
       "      <td>45</td>\n",
       "      <td>1000.23</td>\n",
       "      <td>124153.04</td>\n",
       "      <td>1903.93</td>\n",
       "      <td>64926.08</td>\n",
       "    </tr>\n",
       "    <tr>\n",
       "      <th>46</th>\n",
       "      <td>47</td>\n",
       "      <td>0.00</td>\n",
       "      <td>135426.92</td>\n",
       "      <td>0.00</td>\n",
       "      <td>42559.73</td>\n",
       "    </tr>\n",
       "    <tr>\n",
       "      <th>47</th>\n",
       "      <td>48</td>\n",
       "      <td>542.05</td>\n",
       "      <td>51743.15</td>\n",
       "      <td>0.00</td>\n",
       "      <td>35673.41</td>\n",
       "    </tr>\n",
       "    <tr>\n",
       "      <th>48</th>\n",
       "      <td>49</td>\n",
       "      <td>0.00</td>\n",
       "      <td>116983.80</td>\n",
       "      <td>45173.06</td>\n",
       "      <td>14681.40</td>\n",
       "    </tr>\n",
       "  </tbody>\n",
       "</table>\n",
       "</div>"
      ],
      "text/plain": [
       "    index   RD_Spend  Administration  Marketing_Spend     Profit\n",
       "0       0  165349.20       136897.80        471784.10  192261.83\n",
       "1       1  162597.70       151377.59        443898.53  191792.06\n",
       "2       2  153441.51       101145.55        407934.54  191050.39\n",
       "3       3  144372.41       118671.85        383199.62  182901.99\n",
       "4       4  142107.34        91391.77        366168.42  166187.94\n",
       "5       5  131876.90        99814.71        362861.36  156991.12\n",
       "6       6  134615.46       147198.87        127716.82  156122.51\n",
       "7       7  130298.13       145530.06        323876.68  155752.60\n",
       "8       8  120542.52       148718.95        311613.29  152211.77\n",
       "9       9  123334.88       108679.17        304981.62  149759.96\n",
       "10     10  101913.08       110594.11        229160.95  146121.95\n",
       "11     11  100671.96        91790.61        249744.55  144259.40\n",
       "12     12   93863.75       127320.38        249839.44  141585.52\n",
       "13     13   91992.39       135495.07        252664.93  134307.35\n",
       "14     14  119943.24       156547.42        256512.92  132602.65\n",
       "15     15  114523.61       122616.84        261776.23  129917.04\n",
       "16     16   78013.11       121597.55        264346.06  126992.93\n",
       "17     17   94657.16       145077.58        282574.31  125370.37\n",
       "18     18   91749.16       114175.79        294919.57  124266.90\n",
       "19     19   86419.70       153514.11             0.00  122776.86\n",
       "20     20   76253.86       113867.30        298664.47  118474.03\n",
       "21     21   78389.47       153773.43        299737.29  111313.02\n",
       "22     22   73994.56       122782.75        303319.26  110352.25\n",
       "23     23   67532.53       105751.03        304768.73  108733.99\n",
       "24     24   77044.01        99281.34        140574.81  108552.04\n",
       "25     25   64664.71       139553.16        137962.62  107404.34\n",
       "26     26   75328.87       144135.98        134050.07  105733.54\n",
       "27     27   72107.60       127864.55        353183.81  105008.31\n",
       "28     28   66051.52       182645.56        118148.20  103282.38\n",
       "29     29   65605.48       153032.06        107138.38  101004.64\n",
       "30     30   61994.48       115641.28         91131.24   99937.59\n",
       "31     31   61136.38       152701.92         88218.23   97483.56\n",
       "32     32   63408.86       129219.61         46085.25   97427.84\n",
       "33     33   55493.95       103057.49        214634.81   96778.92\n",
       "34     34   46426.07       157693.92        210797.67   96712.80\n",
       "35     35   46014.02        85047.44        205517.64   96479.51\n",
       "36     36   28663.76       127056.21        201126.82   90708.19\n",
       "37     37   44069.95        51283.14        197029.42   89949.14\n",
       "38     38   20229.59        65947.93        185265.10   81229.06\n",
       "39     39   38558.51        82982.09        174999.30   81005.76\n",
       "40     40   28754.33       118546.05        172795.67   78239.91\n",
       "41     41   27892.92        84710.77        164470.71   77798.83\n",
       "42     42   23640.93        96189.63        148001.11   71498.49\n",
       "43     43   15505.73       127382.30         35534.17   69758.98\n",
       "44     44   22177.74       154806.14         28334.72   65200.33\n",
       "45     45    1000.23       124153.04          1903.93   64926.08\n",
       "46     47       0.00       135426.92             0.00   42559.73\n",
       "47     48     542.05        51743.15             0.00   35673.41\n",
       "48     49       0.00       116983.80         45173.06   14681.40"
      ]
     },
     "execution_count": 99,
     "metadata": {},
     "output_type": "execute_result"
    }
   ],
   "source": [
    "#Discard the data points which are influencers and reasign the row number (reset_index())\n",
    "df=Data.drop(Data.index[[46]],axis=0).reset_index()\n",
    "df"
   ]
  },
  {
   "cell_type": "code",
   "execution_count": 98,
   "id": "3a62ebe7",
   "metadata": {
    "ExecuteTime": {
     "end_time": "2023-04-21T10:01:24.883246Z",
     "start_time": "2023-04-21T10:01:24.796174Z"
    }
   },
   "outputs": [
    {
     "data": {
      "text/html": [
       "<div>\n",
       "<style scoped>\n",
       "    .dataframe tbody tr th:only-of-type {\n",
       "        vertical-align: middle;\n",
       "    }\n",
       "\n",
       "    .dataframe tbody tr th {\n",
       "        vertical-align: top;\n",
       "    }\n",
       "\n",
       "    .dataframe thead th {\n",
       "        text-align: right;\n",
       "    }\n",
       "</style>\n",
       "<table border=\"1\" class=\"dataframe\">\n",
       "  <thead>\n",
       "    <tr style=\"text-align: right;\">\n",
       "      <th></th>\n",
       "      <th>RD_Spend</th>\n",
       "      <th>Administration</th>\n",
       "      <th>Marketing_Spend</th>\n",
       "      <th>Profit</th>\n",
       "    </tr>\n",
       "  </thead>\n",
       "  <tbody>\n",
       "    <tr>\n",
       "      <th>0</th>\n",
       "      <td>165349.20</td>\n",
       "      <td>136897.80</td>\n",
       "      <td>471784.10</td>\n",
       "      <td>192261.83</td>\n",
       "    </tr>\n",
       "    <tr>\n",
       "      <th>1</th>\n",
       "      <td>162597.70</td>\n",
       "      <td>151377.59</td>\n",
       "      <td>443898.53</td>\n",
       "      <td>191792.06</td>\n",
       "    </tr>\n",
       "    <tr>\n",
       "      <th>2</th>\n",
       "      <td>153441.51</td>\n",
       "      <td>101145.55</td>\n",
       "      <td>407934.54</td>\n",
       "      <td>191050.39</td>\n",
       "    </tr>\n",
       "    <tr>\n",
       "      <th>3</th>\n",
       "      <td>144372.41</td>\n",
       "      <td>118671.85</td>\n",
       "      <td>383199.62</td>\n",
       "      <td>182901.99</td>\n",
       "    </tr>\n",
       "    <tr>\n",
       "      <th>4</th>\n",
       "      <td>142107.34</td>\n",
       "      <td>91391.77</td>\n",
       "      <td>366168.42</td>\n",
       "      <td>166187.94</td>\n",
       "    </tr>\n",
       "    <tr>\n",
       "      <th>5</th>\n",
       "      <td>131876.90</td>\n",
       "      <td>99814.71</td>\n",
       "      <td>362861.36</td>\n",
       "      <td>156991.12</td>\n",
       "    </tr>\n",
       "    <tr>\n",
       "      <th>6</th>\n",
       "      <td>134615.46</td>\n",
       "      <td>147198.87</td>\n",
       "      <td>127716.82</td>\n",
       "      <td>156122.51</td>\n",
       "    </tr>\n",
       "    <tr>\n",
       "      <th>7</th>\n",
       "      <td>130298.13</td>\n",
       "      <td>145530.06</td>\n",
       "      <td>323876.68</td>\n",
       "      <td>155752.60</td>\n",
       "    </tr>\n",
       "    <tr>\n",
       "      <th>8</th>\n",
       "      <td>120542.52</td>\n",
       "      <td>148718.95</td>\n",
       "      <td>311613.29</td>\n",
       "      <td>152211.77</td>\n",
       "    </tr>\n",
       "    <tr>\n",
       "      <th>9</th>\n",
       "      <td>123334.88</td>\n",
       "      <td>108679.17</td>\n",
       "      <td>304981.62</td>\n",
       "      <td>149759.96</td>\n",
       "    </tr>\n",
       "    <tr>\n",
       "      <th>10</th>\n",
       "      <td>101913.08</td>\n",
       "      <td>110594.11</td>\n",
       "      <td>229160.95</td>\n",
       "      <td>146121.95</td>\n",
       "    </tr>\n",
       "    <tr>\n",
       "      <th>11</th>\n",
       "      <td>100671.96</td>\n",
       "      <td>91790.61</td>\n",
       "      <td>249744.55</td>\n",
       "      <td>144259.40</td>\n",
       "    </tr>\n",
       "    <tr>\n",
       "      <th>12</th>\n",
       "      <td>93863.75</td>\n",
       "      <td>127320.38</td>\n",
       "      <td>249839.44</td>\n",
       "      <td>141585.52</td>\n",
       "    </tr>\n",
       "    <tr>\n",
       "      <th>13</th>\n",
       "      <td>91992.39</td>\n",
       "      <td>135495.07</td>\n",
       "      <td>252664.93</td>\n",
       "      <td>134307.35</td>\n",
       "    </tr>\n",
       "    <tr>\n",
       "      <th>14</th>\n",
       "      <td>119943.24</td>\n",
       "      <td>156547.42</td>\n",
       "      <td>256512.92</td>\n",
       "      <td>132602.65</td>\n",
       "    </tr>\n",
       "    <tr>\n",
       "      <th>15</th>\n",
       "      <td>114523.61</td>\n",
       "      <td>122616.84</td>\n",
       "      <td>261776.23</td>\n",
       "      <td>129917.04</td>\n",
       "    </tr>\n",
       "    <tr>\n",
       "      <th>16</th>\n",
       "      <td>78013.11</td>\n",
       "      <td>121597.55</td>\n",
       "      <td>264346.06</td>\n",
       "      <td>126992.93</td>\n",
       "    </tr>\n",
       "    <tr>\n",
       "      <th>17</th>\n",
       "      <td>94657.16</td>\n",
       "      <td>145077.58</td>\n",
       "      <td>282574.31</td>\n",
       "      <td>125370.37</td>\n",
       "    </tr>\n",
       "    <tr>\n",
       "      <th>18</th>\n",
       "      <td>91749.16</td>\n",
       "      <td>114175.79</td>\n",
       "      <td>294919.57</td>\n",
       "      <td>124266.90</td>\n",
       "    </tr>\n",
       "    <tr>\n",
       "      <th>19</th>\n",
       "      <td>86419.70</td>\n",
       "      <td>153514.11</td>\n",
       "      <td>0.00</td>\n",
       "      <td>122776.86</td>\n",
       "    </tr>\n",
       "    <tr>\n",
       "      <th>20</th>\n",
       "      <td>76253.86</td>\n",
       "      <td>113867.30</td>\n",
       "      <td>298664.47</td>\n",
       "      <td>118474.03</td>\n",
       "    </tr>\n",
       "    <tr>\n",
       "      <th>21</th>\n",
       "      <td>78389.47</td>\n",
       "      <td>153773.43</td>\n",
       "      <td>299737.29</td>\n",
       "      <td>111313.02</td>\n",
       "    </tr>\n",
       "    <tr>\n",
       "      <th>22</th>\n",
       "      <td>73994.56</td>\n",
       "      <td>122782.75</td>\n",
       "      <td>303319.26</td>\n",
       "      <td>110352.25</td>\n",
       "    </tr>\n",
       "    <tr>\n",
       "      <th>23</th>\n",
       "      <td>67532.53</td>\n",
       "      <td>105751.03</td>\n",
       "      <td>304768.73</td>\n",
       "      <td>108733.99</td>\n",
       "    </tr>\n",
       "    <tr>\n",
       "      <th>24</th>\n",
       "      <td>77044.01</td>\n",
       "      <td>99281.34</td>\n",
       "      <td>140574.81</td>\n",
       "      <td>108552.04</td>\n",
       "    </tr>\n",
       "    <tr>\n",
       "      <th>25</th>\n",
       "      <td>64664.71</td>\n",
       "      <td>139553.16</td>\n",
       "      <td>137962.62</td>\n",
       "      <td>107404.34</td>\n",
       "    </tr>\n",
       "    <tr>\n",
       "      <th>26</th>\n",
       "      <td>75328.87</td>\n",
       "      <td>144135.98</td>\n",
       "      <td>134050.07</td>\n",
       "      <td>105733.54</td>\n",
       "    </tr>\n",
       "    <tr>\n",
       "      <th>27</th>\n",
       "      <td>72107.60</td>\n",
       "      <td>127864.55</td>\n",
       "      <td>353183.81</td>\n",
       "      <td>105008.31</td>\n",
       "    </tr>\n",
       "    <tr>\n",
       "      <th>28</th>\n",
       "      <td>66051.52</td>\n",
       "      <td>182645.56</td>\n",
       "      <td>118148.20</td>\n",
       "      <td>103282.38</td>\n",
       "    </tr>\n",
       "    <tr>\n",
       "      <th>29</th>\n",
       "      <td>65605.48</td>\n",
       "      <td>153032.06</td>\n",
       "      <td>107138.38</td>\n",
       "      <td>101004.64</td>\n",
       "    </tr>\n",
       "    <tr>\n",
       "      <th>30</th>\n",
       "      <td>61994.48</td>\n",
       "      <td>115641.28</td>\n",
       "      <td>91131.24</td>\n",
       "      <td>99937.59</td>\n",
       "    </tr>\n",
       "    <tr>\n",
       "      <th>31</th>\n",
       "      <td>61136.38</td>\n",
       "      <td>152701.92</td>\n",
       "      <td>88218.23</td>\n",
       "      <td>97483.56</td>\n",
       "    </tr>\n",
       "    <tr>\n",
       "      <th>32</th>\n",
       "      <td>63408.86</td>\n",
       "      <td>129219.61</td>\n",
       "      <td>46085.25</td>\n",
       "      <td>97427.84</td>\n",
       "    </tr>\n",
       "    <tr>\n",
       "      <th>33</th>\n",
       "      <td>55493.95</td>\n",
       "      <td>103057.49</td>\n",
       "      <td>214634.81</td>\n",
       "      <td>96778.92</td>\n",
       "    </tr>\n",
       "    <tr>\n",
       "      <th>34</th>\n",
       "      <td>46426.07</td>\n",
       "      <td>157693.92</td>\n",
       "      <td>210797.67</td>\n",
       "      <td>96712.80</td>\n",
       "    </tr>\n",
       "    <tr>\n",
       "      <th>35</th>\n",
       "      <td>46014.02</td>\n",
       "      <td>85047.44</td>\n",
       "      <td>205517.64</td>\n",
       "      <td>96479.51</td>\n",
       "    </tr>\n",
       "    <tr>\n",
       "      <th>36</th>\n",
       "      <td>28663.76</td>\n",
       "      <td>127056.21</td>\n",
       "      <td>201126.82</td>\n",
       "      <td>90708.19</td>\n",
       "    </tr>\n",
       "    <tr>\n",
       "      <th>37</th>\n",
       "      <td>44069.95</td>\n",
       "      <td>51283.14</td>\n",
       "      <td>197029.42</td>\n",
       "      <td>89949.14</td>\n",
       "    </tr>\n",
       "    <tr>\n",
       "      <th>38</th>\n",
       "      <td>20229.59</td>\n",
       "      <td>65947.93</td>\n",
       "      <td>185265.10</td>\n",
       "      <td>81229.06</td>\n",
       "    </tr>\n",
       "    <tr>\n",
       "      <th>39</th>\n",
       "      <td>38558.51</td>\n",
       "      <td>82982.09</td>\n",
       "      <td>174999.30</td>\n",
       "      <td>81005.76</td>\n",
       "    </tr>\n",
       "    <tr>\n",
       "      <th>40</th>\n",
       "      <td>28754.33</td>\n",
       "      <td>118546.05</td>\n",
       "      <td>172795.67</td>\n",
       "      <td>78239.91</td>\n",
       "    </tr>\n",
       "    <tr>\n",
       "      <th>41</th>\n",
       "      <td>27892.92</td>\n",
       "      <td>84710.77</td>\n",
       "      <td>164470.71</td>\n",
       "      <td>77798.83</td>\n",
       "    </tr>\n",
       "    <tr>\n",
       "      <th>42</th>\n",
       "      <td>23640.93</td>\n",
       "      <td>96189.63</td>\n",
       "      <td>148001.11</td>\n",
       "      <td>71498.49</td>\n",
       "    </tr>\n",
       "    <tr>\n",
       "      <th>43</th>\n",
       "      <td>15505.73</td>\n",
       "      <td>127382.30</td>\n",
       "      <td>35534.17</td>\n",
       "      <td>69758.98</td>\n",
       "    </tr>\n",
       "    <tr>\n",
       "      <th>44</th>\n",
       "      <td>22177.74</td>\n",
       "      <td>154806.14</td>\n",
       "      <td>28334.72</td>\n",
       "      <td>65200.33</td>\n",
       "    </tr>\n",
       "    <tr>\n",
       "      <th>45</th>\n",
       "      <td>1000.23</td>\n",
       "      <td>124153.04</td>\n",
       "      <td>1903.93</td>\n",
       "      <td>64926.08</td>\n",
       "    </tr>\n",
       "    <tr>\n",
       "      <th>46</th>\n",
       "      <td>0.00</td>\n",
       "      <td>135426.92</td>\n",
       "      <td>0.00</td>\n",
       "      <td>42559.73</td>\n",
       "    </tr>\n",
       "    <tr>\n",
       "      <th>47</th>\n",
       "      <td>542.05</td>\n",
       "      <td>51743.15</td>\n",
       "      <td>0.00</td>\n",
       "      <td>35673.41</td>\n",
       "    </tr>\n",
       "    <tr>\n",
       "      <th>48</th>\n",
       "      <td>0.00</td>\n",
       "      <td>116983.80</td>\n",
       "      <td>45173.06</td>\n",
       "      <td>14681.40</td>\n",
       "    </tr>\n",
       "  </tbody>\n",
       "</table>\n",
       "</div>"
      ],
      "text/plain": [
       "     RD_Spend  Administration  Marketing_Spend     Profit\n",
       "0   165349.20       136897.80        471784.10  192261.83\n",
       "1   162597.70       151377.59        443898.53  191792.06\n",
       "2   153441.51       101145.55        407934.54  191050.39\n",
       "3   144372.41       118671.85        383199.62  182901.99\n",
       "4   142107.34        91391.77        366168.42  166187.94\n",
       "5   131876.90        99814.71        362861.36  156991.12\n",
       "6   134615.46       147198.87        127716.82  156122.51\n",
       "7   130298.13       145530.06        323876.68  155752.60\n",
       "8   120542.52       148718.95        311613.29  152211.77\n",
       "9   123334.88       108679.17        304981.62  149759.96\n",
       "10  101913.08       110594.11        229160.95  146121.95\n",
       "11  100671.96        91790.61        249744.55  144259.40\n",
       "12   93863.75       127320.38        249839.44  141585.52\n",
       "13   91992.39       135495.07        252664.93  134307.35\n",
       "14  119943.24       156547.42        256512.92  132602.65\n",
       "15  114523.61       122616.84        261776.23  129917.04\n",
       "16   78013.11       121597.55        264346.06  126992.93\n",
       "17   94657.16       145077.58        282574.31  125370.37\n",
       "18   91749.16       114175.79        294919.57  124266.90\n",
       "19   86419.70       153514.11             0.00  122776.86\n",
       "20   76253.86       113867.30        298664.47  118474.03\n",
       "21   78389.47       153773.43        299737.29  111313.02\n",
       "22   73994.56       122782.75        303319.26  110352.25\n",
       "23   67532.53       105751.03        304768.73  108733.99\n",
       "24   77044.01        99281.34        140574.81  108552.04\n",
       "25   64664.71       139553.16        137962.62  107404.34\n",
       "26   75328.87       144135.98        134050.07  105733.54\n",
       "27   72107.60       127864.55        353183.81  105008.31\n",
       "28   66051.52       182645.56        118148.20  103282.38\n",
       "29   65605.48       153032.06        107138.38  101004.64\n",
       "30   61994.48       115641.28         91131.24   99937.59\n",
       "31   61136.38       152701.92         88218.23   97483.56\n",
       "32   63408.86       129219.61         46085.25   97427.84\n",
       "33   55493.95       103057.49        214634.81   96778.92\n",
       "34   46426.07       157693.92        210797.67   96712.80\n",
       "35   46014.02        85047.44        205517.64   96479.51\n",
       "36   28663.76       127056.21        201126.82   90708.19\n",
       "37   44069.95        51283.14        197029.42   89949.14\n",
       "38   20229.59        65947.93        185265.10   81229.06\n",
       "39   38558.51        82982.09        174999.30   81005.76\n",
       "40   28754.33       118546.05        172795.67   78239.91\n",
       "41   27892.92        84710.77        164470.71   77798.83\n",
       "42   23640.93        96189.63        148001.11   71498.49\n",
       "43   15505.73       127382.30         35534.17   69758.98\n",
       "44   22177.74       154806.14         28334.72   65200.33\n",
       "45    1000.23       124153.04          1903.93   64926.08\n",
       "46       0.00       135426.92             0.00   42559.73\n",
       "47     542.05        51743.15             0.00   35673.41\n",
       "48       0.00       116983.80         45173.06   14681.40"
      ]
     },
     "execution_count": 98,
     "metadata": {},
     "output_type": "execute_result"
    }
   ],
   "source": [
    "#Drop the original index\n",
    "#df1=df.drop(['index'],axis=1)\n",
    "df1=df.drop(['index'],axis=1)\n",
    "df1"
   ]
  },
  {
   "cell_type": "markdown",
   "id": "9fe8de03",
   "metadata": {},
   "source": [
    "# Build Model"
   ]
  },
  {
   "cell_type": "code",
   "execution_count": 101,
   "id": "973bb228",
   "metadata": {
    "ExecuteTime": {
     "end_time": "2023-04-21T10:05:46.041434Z",
     "start_time": "2023-04-21T10:05:46.021490Z"
    }
   },
   "outputs": [],
   "source": [
    "#Exclude variable Marketing_spend and generate R-Squared and AIC values\n",
    "model2=smf.ols(\"Profit~Administration+ RD_Spend\", data= df1).fit()"
   ]
  },
  {
   "cell_type": "code",
   "execution_count": 102,
   "id": "1aceea92",
   "metadata": {
    "ExecuteTime": {
     "end_time": "2023-04-21T10:06:01.404104Z",
     "start_time": "2023-04-21T10:06:01.367202Z"
    }
   },
   "outputs": [
    {
     "data": {
      "text/html": [
       "<table class=\"simpletable\">\n",
       "<caption>OLS Regression Results</caption>\n",
       "<tr>\n",
       "  <th>Dep. Variable:</th>         <td>Profit</td>      <th>  R-squared:         </th> <td>   0.945</td>\n",
       "</tr>\n",
       "<tr>\n",
       "  <th>Model:</th>                   <td>OLS</td>       <th>  Adj. R-squared:    </th> <td>   0.943</td>\n",
       "</tr>\n",
       "<tr>\n",
       "  <th>Method:</th>             <td>Least Squares</td>  <th>  F-statistic:       </th> <td>   395.7</td>\n",
       "</tr>\n",
       "<tr>\n",
       "  <th>Date:</th>             <td>Fri, 21 Apr 2023</td> <th>  Prob (F-statistic):</th> <td>1.04e-29</td>\n",
       "</tr>\n",
       "<tr>\n",
       "  <th>Time:</th>                 <td>15:36:01</td>     <th>  Log-Likelihood:    </th> <td> -516.79</td>\n",
       "</tr>\n",
       "<tr>\n",
       "  <th>No. Observations:</th>      <td>    49</td>      <th>  AIC:               </th> <td>   1040.</td>\n",
       "</tr>\n",
       "<tr>\n",
       "  <th>Df Residuals:</th>          <td>    46</td>      <th>  BIC:               </th> <td>   1045.</td>\n",
       "</tr>\n",
       "<tr>\n",
       "  <th>Df Model:</th>              <td>     2</td>      <th>                     </th>     <td> </td>   \n",
       "</tr>\n",
       "<tr>\n",
       "  <th>Covariance Type:</th>      <td>nonrobust</td>    <th>                     </th>     <td> </td>   \n",
       "</tr>\n",
       "</table>\n",
       "<table class=\"simpletable\">\n",
       "<tr>\n",
       "         <td></td>           <th>coef</th>     <th>std err</th>      <th>t</th>      <th>P>|t|</th>  <th>[0.025</th>    <th>0.975]</th>  \n",
       "</tr>\n",
       "<tr>\n",
       "  <th>Intercept</th>      <td> 5.491e+04</td> <td> 6106.624</td> <td>    8.992</td> <td> 0.000</td> <td> 4.26e+04</td> <td> 6.72e+04</td>\n",
       "</tr>\n",
       "<tr>\n",
       "  <th>Administration</th> <td>   -0.0529</td> <td>    0.050</td> <td>   -1.060</td> <td> 0.295</td> <td>   -0.153</td> <td>    0.048</td>\n",
       "</tr>\n",
       "<tr>\n",
       "  <th>RD_Spend</th>       <td>    0.8618</td> <td>    0.031</td> <td>   27.532</td> <td> 0.000</td> <td>    0.799</td> <td>    0.925</td>\n",
       "</tr>\n",
       "</table>\n",
       "<table class=\"simpletable\">\n",
       "<tr>\n",
       "  <th>Omnibus:</th>       <td>14.173</td> <th>  Durbin-Watson:     </th> <td>   1.225</td>\n",
       "</tr>\n",
       "<tr>\n",
       "  <th>Prob(Omnibus):</th> <td> 0.001</td> <th>  Jarque-Bera (JB):  </th> <td>  18.999</td>\n",
       "</tr>\n",
       "<tr>\n",
       "  <th>Skew:</th>          <td>-0.957</td> <th>  Prob(JB):          </th> <td>7.49e-05</td>\n",
       "</tr>\n",
       "<tr>\n",
       "  <th>Kurtosis:</th>      <td> 5.376</td> <th>  Cond. No.          </th> <td>6.64e+05</td>\n",
       "</tr>\n",
       "</table><br/><br/>Notes:<br/>[1] Standard Errors assume that the covariance matrix of the errors is correctly specified.<br/>[2] The condition number is large, 6.64e+05. This might indicate that there are<br/>strong multicollinearity or other numerical problems."
      ],
      "text/plain": [
       "<class 'statsmodels.iolib.summary.Summary'>\n",
       "\"\"\"\n",
       "                            OLS Regression Results                            \n",
       "==============================================================================\n",
       "Dep. Variable:                 Profit   R-squared:                       0.945\n",
       "Model:                            OLS   Adj. R-squared:                  0.943\n",
       "Method:                 Least Squares   F-statistic:                     395.7\n",
       "Date:                Fri, 21 Apr 2023   Prob (F-statistic):           1.04e-29\n",
       "Time:                        15:36:01   Log-Likelihood:                -516.79\n",
       "No. Observations:                  49   AIC:                             1040.\n",
       "Df Residuals:                      46   BIC:                             1045.\n",
       "Df Model:                           2                                         \n",
       "Covariance Type:            nonrobust                                         \n",
       "==================================================================================\n",
       "                     coef    std err          t      P>|t|      [0.025      0.975]\n",
       "----------------------------------------------------------------------------------\n",
       "Intercept       5.491e+04   6106.624      8.992      0.000    4.26e+04    6.72e+04\n",
       "Administration    -0.0529      0.050     -1.060      0.295      -0.153       0.048\n",
       "RD_Spend           0.8618      0.031     27.532      0.000       0.799       0.925\n",
       "==============================================================================\n",
       "Omnibus:                       14.173   Durbin-Watson:                   1.225\n",
       "Prob(Omnibus):                  0.001   Jarque-Bera (JB):               18.999\n",
       "Skew:                          -0.957   Prob(JB):                     7.49e-05\n",
       "Kurtosis:                       5.376   Cond. No.                     6.64e+05\n",
       "==============================================================================\n",
       "\n",
       "Notes:\n",
       "[1] Standard Errors assume that the covariance matrix of the errors is correctly specified.\n",
       "[2] The condition number is large, 6.64e+05. This might indicate that there are\n",
       "strong multicollinearity or other numerical problems.\n",
       "\"\"\""
      ]
     },
     "execution_count": 102,
     "metadata": {},
     "output_type": "execute_result"
    }
   ],
   "source": [
    "model2.summary()"
   ]
  },
  {
   "cell_type": "code",
   "execution_count": 103,
   "id": "7e282e58",
   "metadata": {
    "ExecuteTime": {
     "end_time": "2023-04-21T10:10:26.706872Z",
     "start_time": "2023-04-21T10:10:26.683916Z"
    }
   },
   "outputs": [
    {
     "data": {
      "text/plain": [
       "(0.9450622519803692, 1039.5783979400685, 1045.2538588344005)"
      ]
     },
     "execution_count": 103,
     "metadata": {},
     "output_type": "execute_result"
    }
   ],
   "source": [
    "(model2.rsquared,model2.aic,model2.bic)"
   ]
  },
  {
   "cell_type": "code",
   "execution_count": 104,
   "id": "db9a3503",
   "metadata": {
    "ExecuteTime": {
     "end_time": "2023-04-21T10:11:40.285779Z",
     "start_time": "2023-04-21T10:11:40.267791Z"
    }
   },
   "outputs": [],
   "source": [
    "model2_influence = model2.get_influence()\n",
    "(c, _) = model2_influence.cooks_distance"
   ]
  },
  {
   "cell_type": "code",
   "execution_count": 105,
   "id": "2b6b1e20",
   "metadata": {
    "ExecuteTime": {
     "end_time": "2023-04-21T10:11:54.407187Z",
     "start_time": "2023-04-21T10:11:54.020040Z"
    }
   },
   "outputs": [
    {
     "data": {
      "image/png": "[encoded data removed]",
      "text/plain": [
       "<Figure size 1440x504 with 1 Axes>"
      ]
     },
     "metadata": {},
     "output_type": "display_data"
    }
   ],
   "source": [
    "#Plot the influencers values using stem plot\n",
    "fig = plt.subplots(figsize=(20, 7))\n",
    "plt.stem(np.arange(len(df1)), np.round(c, 3))\n",
    "plt.xlabel('Row index')\n",
    "plt.ylabel('Cooks Distance')\n",
    "plt.show()"
   ]
  },
  {
   "cell_type": "code",
   "execution_count": 106,
   "id": "6f1d9cbe",
   "metadata": {
    "ExecuteTime": {
     "end_time": "2023-04-21T10:12:30.776695Z",
     "start_time": "2023-04-21T10:12:30.762700Z"
    }
   },
   "outputs": [
    {
     "data": {
      "text/plain": [
       "(48, 0.4011913720416243)"
      ]
     },
     "execution_count": 106,
     "metadata": {},
     "output_type": "execute_result"
    }
   ],
   "source": [
    "(np.argmax(c),np.max(c))"
   ]
  },
  {
   "cell_type": "markdown",
   "id": "48516fdd",
   "metadata": {},
   "source": [
    "# Predicting for new data"
   ]
  },
  {
   "cell_type": "code",
   "execution_count": 111,
   "id": "8620915e",
   "metadata": {
    "ExecuteTime": {
     "end_time": "2023-04-21T10:16:31.865987Z",
     "start_time": "2023-04-21T10:16:31.859758Z"
    }
   },
   "outputs": [],
   "source": [
    "new_data=pd.DataFrame({\"Marketing_Spend\":1200,\"RD_Spend\":1400,\"Administration\" :1600},index=[1])"
   ]
  },
  {
   "cell_type": "code",
   "execution_count": 112,
   "id": "297ce027",
   "metadata": {
    "ExecuteTime": {
     "end_time": "2023-04-21T10:16:32.200656Z",
     "start_time": "2023-04-21T10:16:32.168963Z"
    }
   },
   "outputs": [
    {
     "data": {
      "text/plain": [
       "1    56032.096588\n",
       "dtype: float64"
      ]
     },
     "execution_count": 112,
     "metadata": {},
     "output_type": "execute_result"
    }
   ],
   "source": [
    "model2.predict(new_data)"
   ]
  },
  {
   "cell_type": "code",
   "execution_count": 114,
   "id": "f4f82452",
   "metadata": {
    "ExecuteTime": {
     "end_time": "2023-04-21T10:18:03.131916Z",
     "start_time": "2023-04-21T10:18:03.102469Z"
    }
   },
   "outputs": [
    {
     "data": {
      "text/plain": [
       "0    190163.605602\n",
       "1    187025.837289\n",
       "2    181793.957566\n",
       "3    173050.333001\n",
       "4    172542.342656\n",
       "dtype: float64"
      ]
     },
     "execution_count": 114,
     "metadata": {},
     "output_type": "execute_result"
    }
   ],
   "source": [
    "model2.predict(df1.iloc[0:5,])"
   ]
  },
  {
   "cell_type": "code",
   "execution_count": 115,
   "id": "5784d2ff",
   "metadata": {
    "ExecuteTime": {
     "end_time": "2023-04-21T10:19:18.178953Z",
     "start_time": "2023-04-21T10:19:18.156327Z"
    }
   },
   "outputs": [],
   "source": [
    "#predicting the entire dataset\n",
    "Target_Variable=model2.predict(df1)"
   ]
  },
  {
   "cell_type": "code",
   "execution_count": 116,
   "id": "ae374f49",
   "metadata": {
    "ExecuteTime": {
     "end_time": "2023-04-21T10:19:23.334042Z",
     "start_time": "2023-04-21T10:19:23.318089Z"
    }
   },
   "outputs": [
    {
     "data": {
      "text/plain": [
       "0     190163.605602\n",
       "1     187025.837289\n",
       "2     181793.957566\n",
       "3     173050.333001\n",
       "4     172542.342656\n",
       "5     163279.748414\n",
       "6     163131.585361\n",
       "7     159499.193771\n",
       "8     150922.879506\n",
       "9     155448.884236\n",
       "10    136885.934616\n",
       "11    136811.688197\n",
       "12    129063.510647\n",
       "13    127018.019893\n",
       "14    149992.010826\n",
       "15    147117.425657\n",
       "16    115706.164903\n",
       "17    128807.300929\n",
       "18    127936.941147\n",
       "19    121261.563017\n",
       "20    114599.222892\n",
       "21    114327.280684\n",
       "22    112180.188206\n",
       "23    107512.705106\n",
       "24    116052.294754\n",
       "25    103251.859123\n",
       "26    112199.776538\n",
       "27    110284.975870\n",
       "28    102165.925688\n",
       "29    103349.118735\n",
       "30    102216.400411\n",
       "31     99515.067071\n",
       "32    102716.559849\n",
       "33     97280.285529\n",
       "34     86573.280857\n",
       "35     90063.725590\n",
       "36     72887.307124\n",
       "37     90175.620532\n",
       "38     68853.409249\n",
       "39     83747.801153\n",
       "40     73415.848387\n",
       "41     74464.550939\n",
       "42     70192.495882\n",
       "43     61530.286517\n",
       "44     65828.624301\n",
       "45     49200.202088\n",
       "46     47741.406149\n",
       "47     52638.367461\n",
       "48     48717.696080\n",
       "dtype: float64"
      ]
     },
     "execution_count": 116,
     "metadata": {},
     "output_type": "execute_result"
    }
   ],
   "source": [
    "Target_Variable"
   ]
  },
  {
   "cell_type": "code",
   "execution_count": null,
   "id": "217b34ae",
   "metadata": {},
   "outputs": [],
   "source": []
  }
 ],
 "metadata": {
  "kernelspec": {
   "display_name": "Python 3",
   "language": "python",
   "name": "python3"
  },
  "language_info": {
   "codemirror_mode": {
    "name": "ipython",
    "version": 3
   },
   "file_extension": ".py",
   "mimetype": "text/x-python",
   "name": "python",
   "nbconvert_exporter": "python",
   "pygments_lexer": "ipython3",
   "version": "3.8.8"
  }
 },
 "nbformat": 4,
 "nbformat_minor": 5
}
